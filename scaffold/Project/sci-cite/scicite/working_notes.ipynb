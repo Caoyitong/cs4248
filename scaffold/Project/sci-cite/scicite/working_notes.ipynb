{
 "cells": [
  {
   "cell_type": "code",
   "execution_count": 8,
   "id": "2cc000ae-418f-462b-b9e4-3d39a91dd1c0",
   "metadata": {},
   "outputs": [],
   "source": [
    "import pandas as pd"
   ]
  },
  {
   "cell_type": "markdown",
   "id": "44cdee21-1e4e-4146-b126-2e2215dfe87a",
   "metadata": {},
   "source": [
    "## Dataset exploration"
   ]
  },
  {
   "cell_type": "code",
   "execution_count": 33,
   "id": "12ab5656-adbc-4f6f-8a3a-0b8b01c1a900",
   "metadata": {},
   "outputs": [],
   "source": [
    "from allennlp.data.dataset_readers.dataset_reader import DatasetReader\n",
    "from allennlp.common import Params\n",
    "import os\n",
    "import logging\n",
    "from scicite.dataset_readers.citation_data_reader_scicite import SciciteDatasetReader\n",
    "from allennlp.data.instance import Instance\n",
    "\n",
    "from typing import Dict, Iterable, Tuple\n",
    "\n",
    "logger = logging.getLogger(__name__)  # pylint: disable=invalid-name\n",
    "os.environ['SEED'] = '21016'\n",
    "os.environ['PYTORCH_SEED'] = str(int(os.environ['SEED']) // 3)\n",
    "os.environ['NUMPY_SEED'] = str(int(os.environ['PYTORCH_SEED']) // 3)\n",
    "os.environ[\"elmo\"] = \"true\""
   ]
  },
  {
   "cell_type": "code",
   "execution_count": 35,
   "id": "8eed15e5-ffe3-44b1-be62-a7a2cb1b423f",
   "metadata": {},
   "outputs": [
    {
     "name": "stderr",
     "output_type": "stream",
     "text": [
      "03/18/2024 00:55:44 - INFO - allennlp.common.from_params -   instantiating class <class 'allennlp.data.dataset_readers.dataset_reader.DatasetReader'> from params {'multilabel': False, 'type': 'scicite_datasetreader', 'use_sparse_lexicon_features': False, 'with_elmo': 'true'} and extras {}\n",
      "03/18/2024 00:55:44 - INFO - allennlp.common.params -   dataset_reader.type = scicite_datasetreader\n",
      "03/18/2024 00:55:44 - INFO - allennlp.common.params -   dataset_reader.lazy = False\n",
      "03/18/2024 00:55:44 - INFO - allennlp.common.from_params -   instantiating class <class 'allennlp.data.tokenizers.tokenizer.Tokenizer'> from params {} and extras {}\n",
      "03/18/2024 00:55:44 - INFO - allennlp.common.params -   dataset_reader.tokenizer.type = word\n",
      "03/18/2024 00:55:44 - INFO - allennlp.common.from_params -   instantiating class <class 'allennlp.data.tokenizers.word_tokenizer.WordTokenizer'> from params {} and extras {}\n",
      "03/18/2024 00:55:44 - INFO - allennlp.common.params -   dataset_reader.tokenizer.start_tokens = None\n",
      "03/18/2024 00:55:44 - INFO - allennlp.common.params -   dataset_reader.tokenizer.end_tokens = None\n",
      "03/18/2024 00:55:44 - INFO - allennlp.common.params -   dataset_reader.use_lexicon_features = False\n",
      "03/18/2024 00:55:44 - INFO - allennlp.common.params -   dataset_reader.use_sparse_lexicon_features = False\n",
      "03/18/2024 00:55:44 - INFO - allennlp.common.params -   dataset_reader.multilabel = False\n",
      "03/18/2024 00:55:44 - INFO - allennlp.common.params -   dataset_reader.with_elmo = true\n",
      "03/18/2024 00:55:44 - INFO - allennlp.common.params -   dataset_reader.reader_format = flat\n"
     ]
    }
   ],
   "source": [
    "parameter_filename = \"./experiment_configs/scicite-experiment-0.05-0.05.json\"\n",
    "overrides = \"\"\n",
    "params = Params.from_file(parameter_filename, overrides)\n",
    "\n",
    "dataset_reader = DatasetReader.from_params(params.pop('dataset_reader'))\n"
   ]
  },
  {
   "cell_type": "code",
   "execution_count": 36,
   "id": "84a37e50-0a37-42f6-9192-e3cfe3d59b0d",
   "metadata": {
    "tags": []
   },
   "outputs": [],
   "source": [
    "# params.as_dict()"
   ]
  },
  {
   "cell_type": "code",
   "execution_count": 37,
   "id": "1d2eb45d-1d4d-438b-91ec-a51688adcc60",
   "metadata": {},
   "outputs": [
    {
     "name": "stderr",
     "output_type": "stream",
     "text": [
      "03/18/2024 00:55:45 - INFO - allennlp.common.params -   validation_dataset_reader = None\n",
      "03/18/2024 00:55:45 - INFO - allennlp.common.params -   train_data_path = scicite_data/train.jsonl\n",
      "03/18/2024 00:55:45 - INFO - __main__ -   Reading training data from scicite_data/train.jsonl\n",
      "8243it [00:02, 3577.75it/s]\n"
     ]
    }
   ],
   "source": [
    "validation_dataset_reader_params = params.pop(\"validation_dataset_reader\", None)\n",
    "validation_and_test_dataset_reader: DatasetReader = dataset_reader\n",
    "if validation_dataset_reader_params is not None:\n",
    "    logger.info(\"Using a separate dataset reader to load validation and test data.\")\n",
    "    validation_and_test_dataset_reader = DatasetReader.from_params(validation_dataset_reader_params)\n",
    "\n",
    "train_data_path = params.pop('train_data_path')\n",
    "logger.info(\"Reading training data from %s\", train_data_path)\n",
    "train_data = dataset_reader.read(train_data_path)\n",
    "\n",
    "datasets: Dict[str, Iterable[Instance]] = {\"train\": train_data}"
   ]
  },
  {
   "cell_type": "code",
   "execution_count": 51,
   "id": "e665f796-3254-4506-8f86-c59fb9e6b97a",
   "metadata": {},
   "outputs": [
    {
     "data": {
      "text/plain": [
       "{'citation_text': <allennlp.data.fields.text_field.TextField at 0x7f5b492a1b70>,\n",
       " 'labels': <allennlp.data.fields.label_field.LabelField at 0x7f5b4929f908>,\n",
       " 'year_diff': <allennlp.data.fields.array_field.ArrayField at 0x7f5b4929f668>,\n",
       " 'citing_paper_id': <allennlp.data.fields.metadata_field.MetadataField at 0x7f5b4929f1d0>,\n",
       " 'cited_paper_id': <allennlp.data.fields.metadata_field.MetadataField at 0x7f5b4929fb00>,\n",
       " 'citation_excerpt_index': <allennlp.data.fields.metadata_field.MetadataField at 0x7f5b4929fdd8>,\n",
       " 'citation_id': <allennlp.data.fields.metadata_field.MetadataField at 0x7f5b4929f4e0>}"
      ]
     },
     "execution_count": 51,
     "metadata": {},
     "output_type": "execute_result"
    }
   ],
   "source": [
    "train_data[0].fields"
   ]
  },
  {
   "cell_type": "code",
   "execution_count": 48,
   "id": "cad6086c-9c72-4afe-bf7d-5c487e54efe6",
   "metadata": {},
   "outputs": [
    {
     "data": {
      "text/plain": [
       "['__abstractmethods__',\n",
       " '__args__',\n",
       " '__class__',\n",
       " '__contains__',\n",
       " '__delattr__',\n",
       " '__dict__',\n",
       " '__dir__',\n",
       " '__doc__',\n",
       " '__eq__',\n",
       " '__extra__',\n",
       " '__format__',\n",
       " '__ge__',\n",
       " '__getattribute__',\n",
       " '__getitem__',\n",
       " '__gt__',\n",
       " '__hash__',\n",
       " '__init__',\n",
       " '__init_subclass__',\n",
       " '__iter__',\n",
       " '__le__',\n",
       " '__len__',\n",
       " '__lt__',\n",
       " '__module__',\n",
       " '__ne__',\n",
       " '__new__',\n",
       " '__next_in_mro__',\n",
       " '__orig_bases__',\n",
       " '__origin__',\n",
       " '__parameters__',\n",
       " '__reduce__',\n",
       " '__reduce_ex__',\n",
       " '__repr__',\n",
       " '__reversed__',\n",
       " '__setattr__',\n",
       " '__sizeof__',\n",
       " '__slots__',\n",
       " '__str__',\n",
       " '__subclasshook__',\n",
       " '__tree_hash__',\n",
       " '__weakref__',\n",
       " '_abc_cache',\n",
       " '_abc_generic_negative_cache',\n",
       " '_abc_generic_negative_cache_version',\n",
       " '_abc_negative_cache',\n",
       " '_abc_negative_cache_version',\n",
       " '_abc_registry',\n",
       " '_gorg',\n",
       " 'add_field',\n",
       " 'as_tensor_dict',\n",
       " 'count_vocab_items',\n",
       " 'fields',\n",
       " 'get',\n",
       " 'get_padding_lengths',\n",
       " 'index_fields',\n",
       " 'indexed',\n",
       " 'items',\n",
       " 'keys',\n",
       " 'values']"
      ]
     },
     "execution_count": 48,
     "metadata": {},
     "output_type": "execute_result"
    }
   ],
   "source": [
    "dir(train_data[0])"
   ]
  },
  {
   "cell_type": "markdown",
   "id": "beb97fe3-6af4-4747-b913-ba9cd5debee1",
   "metadata": {},
   "source": [
    "## JSONL"
   ]
  },
  {
   "cell_type": "code",
   "execution_count": 120,
   "id": "074287da-4cff-45de-9700-7276b6ed99ad",
   "metadata": {},
   "outputs": [],
   "source": [
    "with open(f\"./scicite_data/dev.jsonl\", encoding=\"utf8\") as f:\n",
    "    lines = f.read().splitlines()\n",
    "    lines = [json.loads(x) for x in lines]"
   ]
  },
  {
   "cell_type": "code",
   "execution_count": 16,
   "id": "16b2f9ad-3cd3-4140-93df-e21e5fd028a8",
   "metadata": {},
   "outputs": [],
   "source": [
    "df_dev = pd.DataFrame(lines)"
   ]
  },
  {
   "cell_type": "code",
   "execution_count": 148,
   "id": "e3bc2c82-cb47-4007-86cf-62ac074048f3",
   "metadata": {},
   "outputs": [
    {
     "data": {
      "text/html": [
       "<div>\n",
       "<style scoped>\n",
       "    .dataframe tbody tr th:only-of-type {\n",
       "        vertical-align: middle;\n",
       "    }\n",
       "\n",
       "    .dataframe tbody tr th {\n",
       "        vertical-align: top;\n",
       "    }\n",
       "\n",
       "    .dataframe thead th {\n",
       "        text-align: right;\n",
       "    }\n",
       "</style>\n",
       "<table border=\"1\" class=\"dataframe\">\n",
       "  <thead>\n",
       "    <tr style=\"text-align: right;\">\n",
       "      <th></th>\n",
       "      <th>source</th>\n",
       "      <th>citeEnd</th>\n",
       "      <th>sectionName</th>\n",
       "      <th>citeStart</th>\n",
       "      <th>string</th>\n",
       "      <th>label</th>\n",
       "      <th>label2</th>\n",
       "      <th>citingPaperId</th>\n",
       "      <th>citedPaperId</th>\n",
       "      <th>isKeyCitation</th>\n",
       "      <th>id</th>\n",
       "      <th>unique_id</th>\n",
       "      <th>excerpt_index</th>\n",
       "      <th>label_confidence</th>\n",
       "      <th>label2_confidence</th>\n",
       "    </tr>\n",
       "  </thead>\n",
       "  <tbody>\n",
       "    <tr>\n",
       "      <th>0</th>\n",
       "      <td>explicit</td>\n",
       "      <td>68.0</td>\n",
       "      <td>Discussion</td>\n",
       "      <td>64.0</td>\n",
       "      <td>These results are in contrast with the finding...</td>\n",
       "      <td>result</td>\n",
       "      <td>supportive</td>\n",
       "      <td>8f1fbe460a901d994e9b81d69f77bfbe32719f4c</td>\n",
       "      <td>5e413c7872f5df231bf4a4f694504384560e98ca</td>\n",
       "      <td>False</td>\n",
       "      <td>8f1fbe460a901d994e9b81d69f77bfbe32719f4c&gt;5e413...</td>\n",
       "      <td>8f1fbe460a901d994e9b81d69f77bfbe32719f4c&gt;5e413...</td>\n",
       "      <td>0</td>\n",
       "      <td>NaN</td>\n",
       "      <td>NaN</td>\n",
       "    </tr>\n",
       "    <tr>\n",
       "      <th>1</th>\n",
       "      <td>explicit</td>\n",
       "      <td>241.0</td>\n",
       "      <td>Discussion</td>\n",
       "      <td>222.0</td>\n",
       "      <td>…nest burrows in close proximity of one anothe...</td>\n",
       "      <td>background</td>\n",
       "      <td>NaN</td>\n",
       "      <td>d9f3207db0c79a3b154f3875c9760cc6b056904b</td>\n",
       "      <td>2cc6ff899bf17666ad35893524a4d61624555ed7</td>\n",
       "      <td>False</td>\n",
       "      <td>d9f3207db0c79a3b154f3875c9760cc6b056904b&gt;2cc6f...</td>\n",
       "      <td>d9f3207db0c79a3b154f3875c9760cc6b056904b&gt;2cc6f...</td>\n",
       "      <td>10</td>\n",
       "      <td>0.7337</td>\n",
       "      <td>NaN</td>\n",
       "    </tr>\n",
       "    <tr>\n",
       "      <th>2</th>\n",
       "      <td>explicit</td>\n",
       "      <td>94.0</td>\n",
       "      <td>. 6 Discussion</td>\n",
       "      <td>71.0</td>\n",
       "      <td>This is clearly in contrast to the results of ...</td>\n",
       "      <td>result</td>\n",
       "      <td>supportive</td>\n",
       "      <td>226f798d30e5523c5b9deafb826ddb04d47c11dc</td>\n",
       "      <td>None</td>\n",
       "      <td>False</td>\n",
       "      <td>226f798d30e5523c5b9deafb826ddb04d47c11dc&gt;None</td>\n",
       "      <td>226f798d30e5523c5b9deafb826ddb04d47c11dc&gt;None_0</td>\n",
       "      <td>0</td>\n",
       "      <td>NaN</td>\n",
       "      <td>NaN</td>\n",
       "    </tr>\n",
       "    <tr>\n",
       "      <th>3</th>\n",
       "      <td>explicit</td>\n",
       "      <td>170.0</td>\n",
       "      <td></td>\n",
       "      <td>148.0</td>\n",
       "      <td>…in a subset of alcoholics (Chen et al., 2004;...</td>\n",
       "      <td>background</td>\n",
       "      <td>NaN</td>\n",
       "      <td>59dba7cd80edcce831d20b35f9eb597bba290154</td>\n",
       "      <td>273996fbf99465211eb8306abe8c56c5835f332e</td>\n",
       "      <td>False</td>\n",
       "      <td>59dba7cd80edcce831d20b35f9eb597bba290154&gt;27399...</td>\n",
       "      <td>59dba7cd80edcce831d20b35f9eb597bba290154&gt;27399...</td>\n",
       "      <td>0</td>\n",
       "      <td>1.0000</td>\n",
       "      <td>NaN</td>\n",
       "    </tr>\n",
       "    <tr>\n",
       "      <th>4</th>\n",
       "      <td>explicit</td>\n",
       "      <td>89.0</td>\n",
       "      <td>DISCUSSION</td>\n",
       "      <td>85.0</td>\n",
       "      <td>This result is consistent with the conclusions...</td>\n",
       "      <td>result</td>\n",
       "      <td>not_supportive</td>\n",
       "      <td>0640f6e098a9d241cd680473e8705357ae101e04</td>\n",
       "      <td>e33da0584b8db37816d510fd9ba7c1216858fd5f</td>\n",
       "      <td>False</td>\n",
       "      <td>0640f6e098a9d241cd680473e8705357ae101e04&gt;e33da...</td>\n",
       "      <td>0640f6e098a9d241cd680473e8705357ae101e04&gt;e33da...</td>\n",
       "      <td>0</td>\n",
       "      <td>NaN</td>\n",
       "      <td>NaN</td>\n",
       "    </tr>\n",
       "    <tr>\n",
       "      <th>...</th>\n",
       "      <td>...</td>\n",
       "      <td>...</td>\n",
       "      <td>...</td>\n",
       "      <td>...</td>\n",
       "      <td>...</td>\n",
       "      <td>...</td>\n",
       "      <td>...</td>\n",
       "      <td>...</td>\n",
       "      <td>...</td>\n",
       "      <td>...</td>\n",
       "      <td>...</td>\n",
       "      <td>...</td>\n",
       "      <td>...</td>\n",
       "      <td>...</td>\n",
       "      <td>...</td>\n",
       "    </tr>\n",
       "    <tr>\n",
       "      <th>911</th>\n",
       "      <td>explicit</td>\n",
       "      <td>99.0</td>\n",
       "      <td>Discussion</td>\n",
       "      <td>71.0</td>\n",
       "      <td>Our results are consistent with those of a pre...</td>\n",
       "      <td>result</td>\n",
       "      <td>not_supportive</td>\n",
       "      <td>d9ef5d1cb543d0f1330908b36f7106f23cbad404</td>\n",
       "      <td>ae7c65d4d7710bf5f36309faea886648f9a51d4a</td>\n",
       "      <td>False</td>\n",
       "      <td>d9ef5d1cb543d0f1330908b36f7106f23cbad404&gt;ae7c6...</td>\n",
       "      <td>d9ef5d1cb543d0f1330908b36f7106f23cbad404&gt;ae7c6...</td>\n",
       "      <td>0</td>\n",
       "      <td>NaN</td>\n",
       "      <td>NaN</td>\n",
       "    </tr>\n",
       "    <tr>\n",
       "      <th>912</th>\n",
       "      <td>explicit</td>\n",
       "      <td>136.0</td>\n",
       "      <td>1. Introduction</td>\n",
       "      <td>129.0</td>\n",
       "      <td>Some of these peptides act as neurotoxins on t...</td>\n",
       "      <td>background</td>\n",
       "      <td>NaN</td>\n",
       "      <td>d937bc4d0722d5b45366b3c4dfde4732224bc048</td>\n",
       "      <td>9200a75534f44836ca7651c9d63d11b884947fa6</td>\n",
       "      <td>True</td>\n",
       "      <td>d937bc4d0722d5b45366b3c4dfde4732224bc048&gt;9200a...</td>\n",
       "      <td>d937bc4d0722d5b45366b3c4dfde4732224bc048&gt;9200a...</td>\n",
       "      <td>4</td>\n",
       "      <td>1.0000</td>\n",
       "      <td>NaN</td>\n",
       "    </tr>\n",
       "    <tr>\n",
       "      <th>913</th>\n",
       "      <td>explicit</td>\n",
       "      <td>150.0</td>\n",
       "      <td>4. Discussion</td>\n",
       "      <td>144.0</td>\n",
       "      <td>Therefore, despite an apparent higher number o...</td>\n",
       "      <td>background</td>\n",
       "      <td>NaN</td>\n",
       "      <td>3f50975c58d861e4fbd3b4fd065f0658b1aa1e10</td>\n",
       "      <td>d16a1d95e6947da69797bb0cb59148057174e35a</td>\n",
       "      <td>True</td>\n",
       "      <td>3f50975c58d861e4fbd3b4fd065f0658b1aa1e10&gt;d16a1...</td>\n",
       "      <td>3f50975c58d861e4fbd3b4fd065f0658b1aa1e10&gt;d16a1...</td>\n",
       "      <td>0</td>\n",
       "      <td>1.0000</td>\n",
       "      <td>NaN</td>\n",
       "    </tr>\n",
       "    <tr>\n",
       "      <th>914</th>\n",
       "      <td>explicit</td>\n",
       "      <td>28.0</td>\n",
       "      <td>INTRODUCTION</td>\n",
       "      <td>13.0</td>\n",
       "      <td>According to Xu et al (2011) the factors that ...</td>\n",
       "      <td>method</td>\n",
       "      <td>NaN</td>\n",
       "      <td>d776ade6bb4898c032b971d2cec145976408e838</td>\n",
       "      <td>22e3889f93c19c15b746c1339ce9d7439ccb632e</td>\n",
       "      <td>False</td>\n",
       "      <td>d776ade6bb4898c032b971d2cec145976408e838&gt;22e38...</td>\n",
       "      <td>d776ade6bb4898c032b971d2cec145976408e838&gt;22e38...</td>\n",
       "      <td>0</td>\n",
       "      <td>NaN</td>\n",
       "      <td>NaN</td>\n",
       "    </tr>\n",
       "    <tr>\n",
       "      <th>915</th>\n",
       "      <td>explicit</td>\n",
       "      <td>259.0</td>\n",
       "      <td>METHODS</td>\n",
       "      <td>242.0</td>\n",
       "      <td>…for an asexual and recombining population: Th...</td>\n",
       "      <td>method</td>\n",
       "      <td>NaN</td>\n",
       "      <td>6406d384e741a6fde6f4aa5e0100bb19f7259842</td>\n",
       "      <td>df384ef1a0677857d0118b9852bff69ee3925e06</td>\n",
       "      <td>False</td>\n",
       "      <td>6406d384e741a6fde6f4aa5e0100bb19f7259842&gt;df384...</td>\n",
       "      <td>6406d384e741a6fde6f4aa5e0100bb19f7259842&gt;df384...</td>\n",
       "      <td>0</td>\n",
       "      <td>1.0000</td>\n",
       "      <td>NaN</td>\n",
       "    </tr>\n",
       "  </tbody>\n",
       "</table>\n",
       "<p>916 rows × 15 columns</p>\n",
       "</div>"
      ],
      "text/plain": [
       "       source  citeEnd      sectionName  citeStart  \\\n",
       "0    explicit     68.0       Discussion       64.0   \n",
       "1    explicit    241.0       Discussion      222.0   \n",
       "2    explicit     94.0   . 6 Discussion       71.0   \n",
       "3    explicit    170.0                       148.0   \n",
       "4    explicit     89.0       DISCUSSION       85.0   \n",
       "..        ...      ...              ...        ...   \n",
       "911  explicit     99.0       Discussion       71.0   \n",
       "912  explicit    136.0  1. Introduction      129.0   \n",
       "913  explicit    150.0    4. Discussion      144.0   \n",
       "914  explicit     28.0     INTRODUCTION       13.0   \n",
       "915  explicit    259.0          METHODS      242.0   \n",
       "\n",
       "                                                string       label  \\\n",
       "0    These results are in contrast with the finding...      result   \n",
       "1    …nest burrows in close proximity of one anothe...  background   \n",
       "2    This is clearly in contrast to the results of ...      result   \n",
       "3    …in a subset of alcoholics (Chen et al., 2004;...  background   \n",
       "4    This result is consistent with the conclusions...      result   \n",
       "..                                                 ...         ...   \n",
       "911  Our results are consistent with those of a pre...      result   \n",
       "912  Some of these peptides act as neurotoxins on t...  background   \n",
       "913  Therefore, despite an apparent higher number o...  background   \n",
       "914  According to Xu et al (2011) the factors that ...      method   \n",
       "915  …for an asexual and recombining population: Th...      method   \n",
       "\n",
       "             label2                             citingPaperId  \\\n",
       "0        supportive  8f1fbe460a901d994e9b81d69f77bfbe32719f4c   \n",
       "1               NaN  d9f3207db0c79a3b154f3875c9760cc6b056904b   \n",
       "2        supportive  226f798d30e5523c5b9deafb826ddb04d47c11dc   \n",
       "3               NaN  59dba7cd80edcce831d20b35f9eb597bba290154   \n",
       "4    not_supportive  0640f6e098a9d241cd680473e8705357ae101e04   \n",
       "..              ...                                       ...   \n",
       "911  not_supportive  d9ef5d1cb543d0f1330908b36f7106f23cbad404   \n",
       "912             NaN  d937bc4d0722d5b45366b3c4dfde4732224bc048   \n",
       "913             NaN  3f50975c58d861e4fbd3b4fd065f0658b1aa1e10   \n",
       "914             NaN  d776ade6bb4898c032b971d2cec145976408e838   \n",
       "915             NaN  6406d384e741a6fde6f4aa5e0100bb19f7259842   \n",
       "\n",
       "                                 citedPaperId  isKeyCitation  \\\n",
       "0    5e413c7872f5df231bf4a4f694504384560e98ca          False   \n",
       "1    2cc6ff899bf17666ad35893524a4d61624555ed7          False   \n",
       "2                                        None          False   \n",
       "3    273996fbf99465211eb8306abe8c56c5835f332e          False   \n",
       "4    e33da0584b8db37816d510fd9ba7c1216858fd5f          False   \n",
       "..                                        ...            ...   \n",
       "911  ae7c65d4d7710bf5f36309faea886648f9a51d4a          False   \n",
       "912  9200a75534f44836ca7651c9d63d11b884947fa6           True   \n",
       "913  d16a1d95e6947da69797bb0cb59148057174e35a           True   \n",
       "914  22e3889f93c19c15b746c1339ce9d7439ccb632e          False   \n",
       "915  df384ef1a0677857d0118b9852bff69ee3925e06          False   \n",
       "\n",
       "                                                    id  \\\n",
       "0    8f1fbe460a901d994e9b81d69f77bfbe32719f4c>5e413...   \n",
       "1    d9f3207db0c79a3b154f3875c9760cc6b056904b>2cc6f...   \n",
       "2        226f798d30e5523c5b9deafb826ddb04d47c11dc>None   \n",
       "3    59dba7cd80edcce831d20b35f9eb597bba290154>27399...   \n",
       "4    0640f6e098a9d241cd680473e8705357ae101e04>e33da...   \n",
       "..                                                 ...   \n",
       "911  d9ef5d1cb543d0f1330908b36f7106f23cbad404>ae7c6...   \n",
       "912  d937bc4d0722d5b45366b3c4dfde4732224bc048>9200a...   \n",
       "913  3f50975c58d861e4fbd3b4fd065f0658b1aa1e10>d16a1...   \n",
       "914  d776ade6bb4898c032b971d2cec145976408e838>22e38...   \n",
       "915  6406d384e741a6fde6f4aa5e0100bb19f7259842>df384...   \n",
       "\n",
       "                                             unique_id  excerpt_index  \\\n",
       "0    8f1fbe460a901d994e9b81d69f77bfbe32719f4c>5e413...              0   \n",
       "1    d9f3207db0c79a3b154f3875c9760cc6b056904b>2cc6f...             10   \n",
       "2      226f798d30e5523c5b9deafb826ddb04d47c11dc>None_0              0   \n",
       "3    59dba7cd80edcce831d20b35f9eb597bba290154>27399...              0   \n",
       "4    0640f6e098a9d241cd680473e8705357ae101e04>e33da...              0   \n",
       "..                                                 ...            ...   \n",
       "911  d9ef5d1cb543d0f1330908b36f7106f23cbad404>ae7c6...              0   \n",
       "912  d937bc4d0722d5b45366b3c4dfde4732224bc048>9200a...              4   \n",
       "913  3f50975c58d861e4fbd3b4fd065f0658b1aa1e10>d16a1...              0   \n",
       "914  d776ade6bb4898c032b971d2cec145976408e838>22e38...              0   \n",
       "915  6406d384e741a6fde6f4aa5e0100bb19f7259842>df384...              0   \n",
       "\n",
       "     label_confidence  label2_confidence  \n",
       "0                 NaN                NaN  \n",
       "1              0.7337                NaN  \n",
       "2                 NaN                NaN  \n",
       "3              1.0000                NaN  \n",
       "4                 NaN                NaN  \n",
       "..                ...                ...  \n",
       "911               NaN                NaN  \n",
       "912            1.0000                NaN  \n",
       "913            1.0000                NaN  \n",
       "914               NaN                NaN  \n",
       "915            1.0000                NaN  \n",
       "\n",
       "[916 rows x 15 columns]"
      ]
     },
     "execution_count": 148,
     "metadata": {},
     "output_type": "execute_result"
    }
   ],
   "source": [
    "df_dev"
   ]
  },
  {
   "cell_type": "code",
   "execution_count": 149,
   "id": "963242f5-e1a1-4100-b14b-8ff3fdf50896",
   "metadata": {},
   "outputs": [],
   "source": [
    "with open(f\"./output_pretrained_test.txt\", encoding=\"utf8\") as f:\n",
    "    output_pretrained = f.read()\n",
    "    output_pretrained = \"[\" + output_pretrained + \"]\"\n",
    "    # output_pretrained = [json.loads(x) for x in output_pretrained]\n",
    "    output_pretrained = json.loads(output_pretrained.replace('\\n', ', ')[:-3]+']')"
   ]
  },
  {
   "cell_type": "code",
   "execution_count": 150,
   "id": "e73b84ac-a3a9-4c8d-bebb-00c09de72fcc",
   "metadata": {},
   "outputs": [],
   "source": [
    "df_dev_predict = pd.DataFrame(output_pretrained)"
   ]
  },
  {
   "cell_type": "code",
   "execution_count": 151,
   "id": "bd0e8063-daf2-498b-829d-80e34f9ab00c",
   "metadata": {},
   "outputs": [],
   "source": [
    "# df_dev_predict.dropna(subset=['prediction'])\n",
    "df_dev_predict = df_dev_predict[~(df_dev_predict['prediction'] == '')]"
   ]
  },
  {
   "cell_type": "code",
   "execution_count": 152,
   "id": "201539ae-6224-4d51-99db-05e87f357d14",
   "metadata": {},
   "outputs": [],
   "source": [
    "# df_dev_merged = df_dev.merge(df_dev_predict, how='left', left_on=\"unique_id\", right_on=\"unique_id\").dropna(subset=['prediction'])"
   ]
  },
  {
   "cell_type": "code",
   "execution_count": 153,
   "id": "040f58d0-da6b-4d4c-b778-d2bb377e6f0a",
   "metadata": {},
   "outputs": [],
   "source": [
    "# def compare_res(df_row):\n",
    "#     if df_row[\"label\"] == df_row[\"prediction\"]:\n",
    "#         return True\n",
    "#     else:\n",
    "#         return False"
   ]
  },
  {
   "cell_type": "code",
   "execution_count": 154,
   "id": "2ffea5cd-3310-4980-a24a-02c75a0b5c09",
   "metadata": {},
   "outputs": [],
   "source": [
    "# df_dev_merged[\"correct_pred\"] = df_dev_merged.apply(compare_res, axis=1)"
   ]
  },
  {
   "cell_type": "code",
   "execution_count": 155,
   "id": "461f65da-cb6d-4775-ae50-aad17a77f45d",
   "metadata": {},
   "outputs": [],
   "source": [
    "# df_dev_merged[df_dev_merged[\"correct_pred\"] == True][\"correct_pred\"].count()"
   ]
  },
  {
   "cell_type": "code",
   "execution_count": 156,
   "id": "32fc3c6a-57fa-4485-a875-39da2d489f3d",
   "metadata": {},
   "outputs": [],
   "source": [
    "# df_dev_merged[\"correct_pred\"].count()"
   ]
  },
  {
   "cell_type": "code",
   "execution_count": 157,
   "id": "c7e3adf2-b892-46cc-a31e-7a55a99bec83",
   "metadata": {},
   "outputs": [],
   "source": [
    "from sklearn.metrics import classification_report, f1_score"
   ]
  },
  {
   "cell_type": "code",
   "execution_count": 158,
   "id": "a6d35d69-0aa4-4b80-a5bb-a7506d4b4677",
   "metadata": {},
   "outputs": [
    {
     "name": "stdout",
     "output_type": "stream",
     "text": [
      "              precision    recall  f1-score   support\n",
      "\n",
      "  background       0.88      0.87      0.88       992\n",
      "      method       0.88      0.81      0.85       605\n",
      "      result       0.71      0.86      0.78       259\n",
      "\n",
      "   micro avg       0.85      0.85      0.85      1856\n",
      "   macro avg       0.82      0.85      0.83      1856\n",
      "weighted avg       0.86      0.85      0.85      1856\n",
      "\n"
     ]
    }
   ],
   "source": [
    "print(classification_report(df_dev_predict['label'], df_dev_predict['prediction']))"
   ]
  },
  {
   "cell_type": "code",
   "execution_count": 159,
   "id": "26ddd61c-c9e6-43e9-910f-96ffd9111e9e",
   "metadata": {},
   "outputs": [
    {
     "name": "stdout",
     "output_type": "stream",
     "text": [
      "0.8328905208191819\n"
     ]
    }
   ],
   "source": [
    "print(f1_score(df_dev_predict['label'], df_dev_predict['prediction'], average='macro'))\n",
    "# df_dev_predict['prediction'].unique()"
   ]
  },
  {
   "cell_type": "code",
   "execution_count": 127,
   "id": "c2283854-8b1d-4d8d-8725-0fff02a09801",
   "metadata": {},
   "outputs": [],
   "source": [
    "# df_dev_merged[df_dev_merged['prediction']!= df_dev_merged['prediction']]"
   ]
  },
  {
   "cell_type": "markdown",
   "id": "1444d42b-00a5-4dd7-b095-9f17ba5b7e74",
   "metadata": {},
   "source": [
    "## Experiment results"
   ]
  },
  {
   "cell_type": "code",
   "execution_count": 146,
   "id": "a78d9023-d367-4213-99ca-6af09415b07c",
   "metadata": {},
   "outputs": [
    {
     "name": "stdout",
     "output_type": "stream",
     "text": [
      "(0, 0)\n",
      "0.8273689041357627\n",
      "(0.05, 0.05)\n",
      "0.8294245106130006\n",
      "(0.1, 0.1)\n",
      "0.8131806035859791\n",
      "(0.1, 0.2)\n",
      "0.8185485261755949\n",
      "(0.1, 0.3)\n",
      "0.8077549709636348\n",
      "(0.2, 0.2)\n",
      "0.8216554689057259\n",
      "(0.3, 0.3)\n",
      "0.8186008842495505\n"
     ]
    }
   ],
   "source": [
    "lambda_pairs = [(0,0), (0.05,0.05), (0.1,0.1), (0.1, 0.2), (0.1, 0.3), (0.2, 0.2), (0.3, 0.3)]\n",
    "\n",
    "for lamb in lambda_pairs:\n",
    "    print(lamb)\n",
    "    with open(f\"./experiments-_{lamb[0]}_{lamb[1]}/metrics.json\", encoding=\"utf8\") as f:\n",
    "        metrics = f.read()\n",
    "        metrics = json.loads(metrics)\n",
    "    print(metrics['best_validation_average_F1'])"
   ]
  },
  {
   "cell_type": "code",
   "execution_count": 145,
   "id": "c3c0e645-bf47-4af7-8bbe-c1caae791a97",
   "metadata": {},
   "outputs": [
    {
     "data": {
      "text/plain": [
       "'{\\n  \"training_duration\": \"01:41:35\",\\n  \"training_start_epoch\": 0,\\n  \"training_epochs\": 9,\\n  \"epoch\": 9,\\n  \"training_background_P\": 0.9970467176708602,\\n  \"training_background_R\": 0.9971858501755937,\\n  \"training_background_F1\": 0.9971162790697174,\\n  \"training_method_P\": 0.995141385676805,\\n  \"training_method_R\": 0.9951897381079636,\\n  \"training_method_F1\": 0.9951655613050057,\\n  \"training_result_P\": 0.9949530634904613,\\n  \"training_result_R\": 0.9942505547710309,\\n  \"training_result_F1\": 0.9946016850814293,\\n  \"training_average_F1\": 0.9956278418187176,\\n  \"training_aux-sec--introduction_P\": 0.09836065573770492,\\n  \"training_aux-sec--introduction_R\": 0.00021122298106033936,\\n  \"training_aux-sec--introduction_F1\": 0.00042154073137274127,\\n  \"training_aux-sec--conclusion_P\": 0.3947169811320755,\\n  \"training_aux-sec--conclusion_R\": 0.03441242268719568,\\n  \"training_aux-sec--conclusion_F1\": 0.0633056950916756,\\n  \"training_aux-sec--experiments_P\": 0.18673724452286428,\\n  \"training_aux-sec--experiments_R\": 0.4216467463479416,\\n  \"training_aux-sec--experiments_F1\": 0.2588403138693144,\\n  \"training_aux-sec--method_P\": 0.18396226415094338,\\n  \"training_aux-sec--method_R\": 0.0032955889809024846,\\n  \"training_aux-sec--method_F1\": 0.006475178482480355,\\n  \"training_aux-sec--related work_P\": 0.08616445100935499,\\n  \"training_aux-sec--related work_R\": 0.6418806268756252,\\n  \"training_aux-sec--related work_F1\": 0.15193370165743766,\\n  \"training_aux-sec--average_F1\": 0.09619528596645614,\\n  \"training_aux-worth--False_P\": 0.8657962268407546,\\n  \"training_aux-worth--False_R\": 0.48770491803278687,\\n  \"training_aux-worth--False_F1\": 0.6239419588874993,\\n  \"training_aux-worth--True_P\": 0.15182915603713543,\\n  \"training_aux-worth--True_R\": 0.5481390049373338,\\n  \"training_aux-worth--True_F1\": 0.23779219441866647,\\n  \"training_aux-worth--average_F1\": 0.4308670766530829,\\n  \"training_loss\": 0.011172040115981463,\\n  \"validation_background_P\": 0.8556521739130435,\\n  \"validation_background_R\": 0.9144981412639405,\\n  \"validation_background_F1\": 0.8840970350403814,\\n  \"validation_method_P\": 0.8407079646017699,\\n  \"validation_method_R\": 0.7450980392156863,\\n  \"validation_method_F1\": 0.7900207900207402,\\n  \"validation_result_P\": 0.808695652173913,\\n  \"validation_result_R\": 0.7560975609756098,\\n  \"validation_result_F1\": 0.781512605041967,\\n  \"validation_average_F1\": 0.8185434767010294,\\n  \"validation_aux-sec--introduction_P\": 0.0,\\n  \"validation_aux-sec--introduction_R\": 0.0,\\n  \"validation_aux-sec--introduction_F1\": 0.0,\\n  \"validation_aux-sec--conclusion_P\": 0.0,\\n  \"validation_aux-sec--conclusion_R\": 0.0,\\n  \"validation_aux-sec--conclusion_F1\": 0.0,\\n  \"validation_aux-sec--experiments_P\": 0.0,\\n  \"validation_aux-sec--experiments_R\": 0.0,\\n  \"validation_aux-sec--experiments_F1\": 0.0,\\n  \"validation_aux-sec--method_P\": 0.0,\\n  \"validation_aux-sec--method_R\": 0.0,\\n  \"validation_aux-sec--method_F1\": 0.0,\\n  \"validation_aux-sec--related work_P\": 0.0,\\n  \"validation_aux-sec--related work_R\": 0.0,\\n  \"validation_aux-sec--related work_F1\": 0.0,\\n  \"validation_aux-sec--average_F1\": 0.0,\\n  \"validation_aux-worth--False_P\": 0.0,\\n  \"validation_aux-worth--False_R\": 0.0,\\n  \"validation_aux-worth--False_F1\": 0.0,\\n  \"validation_aux-worth--True_P\": 0.0,\\n  \"validation_aux-worth--True_R\": 0.0,\\n  \"validation_aux-worth--True_F1\": 0.0,\\n  \"validation_aux-worth--average_F1\": 0.0,\\n  \"validation_loss\": 1.5050179272376258,\\n  \"best_epoch\": 8,\\n  \"best_validation_background_P\": 0.8734177215189873,\\n  \"best_validation_background_R\": 0.8977695167286245,\\n  \"best_validation_background_F1\": 0.8854262144820766,\\n  \"best_validation_method_P\": 0.8163265306122449,\\n  \"best_validation_method_R\": 0.7843137254901961,\\n  \"best_validation_method_F1\": 0.7999999999999502,\\n  \"best_validation_result_P\": 0.8135593220338984,\\n  \"best_validation_result_R\": 0.7804878048780488,\\n  \"best_validation_result_F1\": 0.7966804979252614,\\n  \"best_validation_average_F1\": 0.8273689041357627,\\n  \"best_validation_aux-sec--introduction_P\": 0.0,\\n  \"best_validation_aux-sec--introduction_R\": 0.0,\\n  \"best_validation_aux-sec--introduction_F1\": 0.0,\\n  \"best_validation_aux-sec--conclusion_P\": 0.0,\\n  \"best_validation_aux-sec--conclusion_R\": 0.0,\\n  \"best_validation_aux-sec--conclusion_F1\": 0.0,\\n  \"best_validation_aux-sec--experiments_P\": 0.0,\\n  \"best_validation_aux-sec--experiments_R\": 0.0,\\n  \"best_validation_aux-sec--experiments_F1\": 0.0,\\n  \"best_validation_aux-sec--method_P\": 0.0,\\n  \"best_validation_aux-sec--method_R\": 0.0,\\n  \"best_validation_aux-sec--method_F1\": 0.0,\\n  \"best_validation_aux-sec--related work_P\": 0.0,\\n  \"best_validation_aux-sec--related work_R\": 0.0,\\n  \"best_validation_aux-sec--related work_F1\": 0.0,\\n  \"best_validation_aux-sec--average_F1\": 0.0,\\n  \"best_validation_aux-worth--False_P\": 0.0,\\n  \"best_validation_aux-worth--False_R\": 0.0,\\n  \"best_validation_aux-worth--False_F1\": 0.0,\\n  \"best_validation_aux-worth--True_P\": 0.0,\\n  \"best_validation_aux-worth--True_R\": 0.0,\\n  \"best_validation_aux-worth--True_F1\": 0.0,\\n  \"best_validation_aux-worth--average_F1\": 0.0,\\n  \"best_validation_loss\": 1.4322403407302395,\\n  \"test_background_P\": 0.8738461538461538,\\n  \"test_background_R\": 0.8545636910732196,\\n  \"test_background_F1\": 0.8640973630831144,\\n  \"test_method_P\": 0.8444444444444444,\\n  \"test_method_R\": 0.8165289256198347,\\n  \"test_method_F1\": 0.8302521008402862,\\n  \"test_result_P\": 0.7209302325581395,\\n  \"test_result_R\": 0.8378378378378378,\\n  \"test_result_F1\": 0.7749999999999503,\\n  \"test_average_F1\": 0.8231164879744503,\\n  \"test_aux-sec--introduction_P\": 0.0,\\n  \"test_aux-sec--introduction_R\": 0.0,\\n  \"test_aux-sec--introduction_F1\": 0.0,\\n  \"test_aux-sec--conclusion_P\": 0.0,\\n  \"test_aux-sec--conclusion_R\": 0.0,\\n  \"test_aux-sec--conclusion_F1\": 0.0,\\n  \"test_aux-sec--experiments_P\": 0.0,\\n  \"test_aux-sec--experiments_R\": 0.0,\\n  \"test_aux-sec--experiments_F1\": 0.0,\\n  \"test_aux-sec--method_P\": 0.0,\\n  \"test_aux-sec--method_R\": 0.0,\\n  \"test_aux-sec--method_F1\": 0.0,\\n  \"test_aux-sec--related work_P\": 0.0,\\n  \"test_aux-sec--related work_R\": 0.0,\\n  \"test_aux-sec--related work_F1\": 0.0,\\n  \"test_aux-sec--average_F1\": 0.0,\\n  \"test_aux-worth--False_P\": 0.0,\\n  \"test_aux-worth--False_R\": 0.0,\\n  \"test_aux-worth--False_F1\": 0.0,\\n  \"test_aux-worth--True_P\": 0.0,\\n  \"test_aux-worth--True_R\": 0.0,\\n  \"test_aux-worth--True_F1\": 0.0,\\n  \"test_aux-worth--average_F1\": 0.0,\\n  \"test_loss\": 1.3317684449129186\\n}'"
      ]
     },
     "execution_count": 145,
     "metadata": {},
     "output_type": "execute_result"
    }
   ],
   "source": [
    "metrics"
   ]
  },
  {
   "cell_type": "code",
   "execution_count": null,
   "id": "861b2e3a-c2f0-4a6f-981b-0c72c1b5efee",
   "metadata": {},
   "outputs": [],
   "source": []
  }
 ],
 "metadata": {
  "kernelspec": {
   "display_name": "cs4248-scicite-torch",
   "language": "python",
   "name": "cs4248-scicite-torch"
  },
  "language_info": {
   "codemirror_mode": {
    "name": "ipython",
    "version": 3
   },
   "file_extension": ".py",
   "mimetype": "text/x-python",
   "name": "python",
   "nbconvert_exporter": "python",
   "pygments_lexer": "ipython3",
   "version": "3.6.13"
  }
 },
 "nbformat": 4,
 "nbformat_minor": 5
}
