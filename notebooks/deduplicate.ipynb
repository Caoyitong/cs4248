{
 "cells": [
  {
   "cell_type": "code",
   "outputs": [],
   "source": [
    "import numpy as np\n",
    "import pandas as pd\n",
    "import plotly.express as px\n",
    "from numpy.random import RandomState\n",
    "from src.utils.path_getter import PathGetter\n",
    "\n",
    "from src.extraction.jsonl_data_reader import JsonlDataReader"
   ],
   "metadata": {
    "collapsed": false,
    "ExecuteTime": {
     "end_time": "2024-03-25T03:14:54.067806Z",
     "start_time": "2024-03-25T03:14:50.368809Z"
    }
   },
   "id": "241064ad2dc2c113",
   "execution_count": 1
  },
  {
   "cell_type": "code",
   "outputs": [],
   "source": [
    "seed = 7\n",
    "random_state = RandomState(seed=seed)\n",
    "np.random.seed(seed)"
   ],
   "metadata": {
    "collapsed": false,
    "ExecuteTime": {
     "end_time": "2024-03-25T03:14:54.083807Z",
     "start_time": "2024-03-25T03:14:54.068807Z"
    }
   },
   "id": "ebeafe2eaa284a61",
   "execution_count": 2
  },
  {
   "cell_type": "code",
   "outputs": [],
   "source": [
    "train_data = JsonlDataReader(file_name='train.jsonl').read()\n",
    "test_data = JsonlDataReader(file_name='test.jsonl').read()"
   ],
   "metadata": {
    "collapsed": false,
    "ExecuteTime": {
     "end_time": "2024-03-25T03:20:30.751947Z",
     "start_time": "2024-03-25T03:20:30.648947Z"
    }
   },
   "id": "7101d588a95c4943",
   "execution_count": 28
  },
  {
   "cell_type": "code",
   "outputs": [],
   "source": [
    "from difflib import SequenceMatcher\n",
    "def similar(a, b):\n",
    "    return SequenceMatcher(None, a, b).ratio()\n"
   ],
   "metadata": {
    "collapsed": false,
    "ExecuteTime": {
     "end_time": "2024-03-25T03:23:33.463628Z",
     "start_time": "2024-03-25T03:23:33.450627Z"
    }
   },
   "id": "e60c037f940c3299",
   "execution_count": 31
  },
  {
   "cell_type": "code",
   "outputs": [],
   "source": [
    "mini_instance = train_data.raw_instances[:10]"
   ],
   "metadata": {
    "collapsed": false,
    "ExecuteTime": {
     "end_time": "2024-03-24T17:12:24.275172Z",
     "start_time": "2024-03-24T17:12:24.260173Z"
    }
   },
   "id": "290690e68682101d",
   "execution_count": 5
  },
  {
   "cell_type": "code",
   "outputs": [
    {
     "name": "stderr",
     "output_type": "stream",
     "text": [
      "8242it [6:26:22,  2.81s/it]\n"
     ]
    },
    {
     "data": {
      "text/plain": "          index1  index2  similarity\n0              0       1    0.023346\n1              0       2    0.029466\n2              0       3    0.023372\n3              0       4    0.034707\n4              0       5    0.036364\n...          ...     ...         ...\n33969398    8239    8241    0.024096\n33969399    8239    8242    0.034161\n33969400    8240    8241    0.024691\n33969401    8240    8242    0.038627\n33969402    8241    8242    0.014035\n\n[33969403 rows x 3 columns]",
      "text/html": "<div>\n<style scoped>\n    .dataframe tbody tr th:only-of-type {\n        vertical-align: middle;\n    }\n\n    .dataframe tbody tr th {\n        vertical-align: top;\n    }\n\n    .dataframe thead th {\n        text-align: right;\n    }\n</style>\n<table border=\"1\" class=\"dataframe\">\n  <thead>\n    <tr style=\"text-align: right;\">\n      <th></th>\n      <th>index1</th>\n      <th>index2</th>\n      <th>similarity</th>\n    </tr>\n  </thead>\n  <tbody>\n    <tr>\n      <th>0</th>\n      <td>0</td>\n      <td>1</td>\n      <td>0.023346</td>\n    </tr>\n    <tr>\n      <th>1</th>\n      <td>0</td>\n      <td>2</td>\n      <td>0.029466</td>\n    </tr>\n    <tr>\n      <th>2</th>\n      <td>0</td>\n      <td>3</td>\n      <td>0.023372</td>\n    </tr>\n    <tr>\n      <th>3</th>\n      <td>0</td>\n      <td>4</td>\n      <td>0.034707</td>\n    </tr>\n    <tr>\n      <th>4</th>\n      <td>0</td>\n      <td>5</td>\n      <td>0.036364</td>\n    </tr>\n    <tr>\n      <th>...</th>\n      <td>...</td>\n      <td>...</td>\n      <td>...</td>\n    </tr>\n    <tr>\n      <th>33969398</th>\n      <td>8239</td>\n      <td>8241</td>\n      <td>0.024096</td>\n    </tr>\n    <tr>\n      <th>33969399</th>\n      <td>8239</td>\n      <td>8242</td>\n      <td>0.034161</td>\n    </tr>\n    <tr>\n      <th>33969400</th>\n      <td>8240</td>\n      <td>8241</td>\n      <td>0.024691</td>\n    </tr>\n    <tr>\n      <th>33969401</th>\n      <td>8240</td>\n      <td>8242</td>\n      <td>0.038627</td>\n    </tr>\n    <tr>\n      <th>33969402</th>\n      <td>8241</td>\n      <td>8242</td>\n      <td>0.014035</td>\n    </tr>\n  </tbody>\n</table>\n<p>33969403 rows × 3 columns</p>\n</div>"
     },
     "execution_count": 6,
     "metadata": {},
     "output_type": "execute_result"
    }
   ],
   "source": [
    "from tqdm import tqdm\n",
    "\n",
    "text_similarities = []\n",
    "for idx, row in tqdm(enumerate(train_data.raw_instances[:-1])):\n",
    "    for next_idx, next_row in enumerate(train_data.raw_instances[idx+1:]):\n",
    "        similarity = similar(row.string, next_row.string)\n",
    "        next_row_index = idx + 1 + next_idx\n",
    "        text_similarities.append([idx, next_row_index, similarity])\n",
    "similiarity_df = pd.DataFrame(text_similarities, columns=['index1', 'index2', 'similarity'])\n",
    "similiarity_df"
   ],
   "metadata": {
    "collapsed": false,
    "ExecuteTime": {
     "end_time": "2024-03-24T23:39:03.616084Z",
     "start_time": "2024-03-24T17:12:24.276173Z"
    }
   },
   "id": "8242660c97ff91f9",
   "execution_count": 6
  },
  {
   "cell_type": "code",
   "outputs": [],
   "source": [
    "# similiarity_df.to_csv(PathGetter.get_data_directory()/'similiarity.csv', index=True)"
   ],
   "metadata": {
    "collapsed": false,
    "ExecuteTime": {
     "end_time": "2024-03-24T23:39:50.553083Z",
     "start_time": "2024-03-24T23:39:03.617083Z"
    }
   },
   "id": "1b5e7370890d501b",
   "execution_count": 7
  },
  {
   "cell_type": "code",
   "outputs": [],
   "source": [
    "# similarity_df.to_parquet(PathGetter.get_data_directory()/'similarity_df.parquet', index=False)"
   ],
   "metadata": {
    "collapsed": false,
    "ExecuteTime": {
     "end_time": "2024-03-25T03:19:49.913945Z",
     "start_time": "2024-03-25T03:19:48.095947Z"
    }
   },
   "id": "7420f1598232ccef",
   "execution_count": 23
  },
  {
   "cell_type": "code",
   "outputs": [],
   "source": [
    "# similarity_df = pd.read_csv(PathGetter.get_data_directory()/'similiarity.csv', index_col=0)"
   ],
   "metadata": {
    "collapsed": false,
    "ExecuteTime": {
     "end_time": "2024-03-25T03:19:39.741945Z",
     "start_time": "2024-03-25T03:19:30.482946Z"
    }
   },
   "id": "dc6e59b9527c9044",
   "execution_count": 21
  },
  {
   "cell_type": "code",
   "outputs": [],
   "source": [
    "similarity_df = pd.read_parquet(PathGetter.get_data_directory()/'similarity_df.parquet')"
   ],
   "metadata": {
    "collapsed": false,
    "ExecuteTime": {
     "end_time": "2024-03-25T03:19:52.785946Z",
     "start_time": "2024-03-25T03:19:52.375946Z"
    }
   },
   "id": "bb8afc5c20f82651",
   "execution_count": 24
  },
  {
   "cell_type": "code",
   "outputs": [
    {
     "data": {
      "text/plain": "          index1  index2  similarity\n0              0       1    0.023346\n1              0       2    0.029466\n2              0       3    0.023372\n3              0       4    0.034707\n4              0       5    0.036364\n...          ...     ...         ...\n33969398    8239    8241    0.024096\n33969399    8239    8242    0.034161\n33969400    8240    8241    0.024691\n33969401    8240    8242    0.038627\n33969402    8241    8242    0.014035\n\n[33969403 rows x 3 columns]",
      "text/html": "<div>\n<style scoped>\n    .dataframe tbody tr th:only-of-type {\n        vertical-align: middle;\n    }\n\n    .dataframe tbody tr th {\n        vertical-align: top;\n    }\n\n    .dataframe thead th {\n        text-align: right;\n    }\n</style>\n<table border=\"1\" class=\"dataframe\">\n  <thead>\n    <tr style=\"text-align: right;\">\n      <th></th>\n      <th>index1</th>\n      <th>index2</th>\n      <th>similarity</th>\n    </tr>\n  </thead>\n  <tbody>\n    <tr>\n      <th>0</th>\n      <td>0</td>\n      <td>1</td>\n      <td>0.023346</td>\n    </tr>\n    <tr>\n      <th>1</th>\n      <td>0</td>\n      <td>2</td>\n      <td>0.029466</td>\n    </tr>\n    <tr>\n      <th>2</th>\n      <td>0</td>\n      <td>3</td>\n      <td>0.023372</td>\n    </tr>\n    <tr>\n      <th>3</th>\n      <td>0</td>\n      <td>4</td>\n      <td>0.034707</td>\n    </tr>\n    <tr>\n      <th>4</th>\n      <td>0</td>\n      <td>5</td>\n      <td>0.036364</td>\n    </tr>\n    <tr>\n      <th>...</th>\n      <td>...</td>\n      <td>...</td>\n      <td>...</td>\n    </tr>\n    <tr>\n      <th>33969398</th>\n      <td>8239</td>\n      <td>8241</td>\n      <td>0.024096</td>\n    </tr>\n    <tr>\n      <th>33969399</th>\n      <td>8239</td>\n      <td>8242</td>\n      <td>0.034161</td>\n    </tr>\n    <tr>\n      <th>33969400</th>\n      <td>8240</td>\n      <td>8241</td>\n      <td>0.024691</td>\n    </tr>\n    <tr>\n      <th>33969401</th>\n      <td>8240</td>\n      <td>8242</td>\n      <td>0.038627</td>\n    </tr>\n    <tr>\n      <th>33969402</th>\n      <td>8241</td>\n      <td>8242</td>\n      <td>0.014035</td>\n    </tr>\n  </tbody>\n</table>\n<p>33969403 rows × 3 columns</p>\n</div>"
     },
     "execution_count": 25,
     "metadata": {},
     "output_type": "execute_result"
    }
   ],
   "source": [
    "similarity_df"
   ],
   "metadata": {
    "collapsed": false,
    "ExecuteTime": {
     "end_time": "2024-03-25T03:19:54.140945Z",
     "start_time": "2024-03-25T03:19:54.128947Z"
    }
   },
   "id": "8d2ba33e2ffec4e4",
   "execution_count": 25
  },
  {
   "cell_type": "code",
   "outputs": [
    {
     "data": {
      "text/plain": "(array([3.055529e+06, 7.069985e+06, 4.184479e+06, 1.865562e+06,\n        9.478550e+05, 6.815400e+05, 7.609150e+05, 1.035114e+06,\n        1.428939e+06, 1.787276e+06, 2.124359e+06, 2.183302e+06,\n        2.068625e+06, 1.718563e+06, 1.270563e+06, 8.397450e+05,\n        4.902580e+05, 2.513430e+05, 1.181500e+05, 4.970700e+04,\n        2.213900e+04, 8.513000e+03, 3.459000e+03, 1.464000e+03,\n        6.220000e+02, 3.220000e+02, 1.390000e+02, 1.050000e+02,\n        4.800000e+01, 3.600000e+01, 3.200000e+01, 2.100000e+01,\n        2.800000e+01, 2.500000e+01, 3.400000e+01, 2.400000e+01,\n        2.200000e+01, 3.300000e+01, 1.600000e+01, 2.100000e+01,\n        3.500000e+01, 2.600000e+01, 3.400000e+01, 2.800000e+01,\n        3.300000e+01, 4.000000e+01, 2.900000e+01, 4.100000e+01,\n        5.600000e+01, 1.690000e+02]),\n array([0.  , 0.02, 0.04, 0.06, 0.08, 0.1 , 0.12, 0.14, 0.16, 0.18, 0.2 ,\n        0.22, 0.24, 0.26, 0.28, 0.3 , 0.32, 0.34, 0.36, 0.38, 0.4 , 0.42,\n        0.44, 0.46, 0.48, 0.5 , 0.52, 0.54, 0.56, 0.58, 0.6 , 0.62, 0.64,\n        0.66, 0.68, 0.7 , 0.72, 0.74, 0.76, 0.78, 0.8 , 0.82, 0.84, 0.86,\n        0.88, 0.9 , 0.92, 0.94, 0.96, 0.98, 1.  ]),\n <BarContainer object of 50 artists>)"
     },
     "execution_count": 26,
     "metadata": {},
     "output_type": "execute_result"
    },
    {
     "data": {
      "text/plain": "<Figure size 640x480 with 1 Axes>",
      "image/png": "[encoded data removed]"
     },
     "metadata": {},
     "output_type": "display_data"
    }
   ],
   "source": [
    "import matplotlib.pyplot as plt\n",
    "\n",
    "plt.hist(similarity_df['similarity'], bins=50)"
   ],
   "metadata": {
    "collapsed": false,
    "ExecuteTime": {
     "end_time": "2024-03-25T03:20:08.034945Z",
     "start_time": "2024-03-25T03:20:07.471946Z"
    }
   },
   "id": "83c6c99e6c644e32",
   "execution_count": 26
  },
  {
   "cell_type": "code",
   "outputs": [
    {
     "data": {
      "text/plain": "          index1  index2  similarity\n32533          3    7814    0.882006\n91765         11    1170    0.601064\n98414         11    7819    0.628788\n167833        20    3204    0.654545\n259917        31    4912    0.994382\n...          ...     ...         ...\n33733361    7555    7842    0.988304\n33794173    7650    7949    0.967033\n33823312    7701    8222    0.972477\n33873149    7803    8130    0.990704\n33932047    7969    8015    0.965854\n\n[746 rows x 3 columns]",
      "text/html": "<div>\n<style scoped>\n    .dataframe tbody tr th:only-of-type {\n        vertical-align: middle;\n    }\n\n    .dataframe tbody tr th {\n        vertical-align: top;\n    }\n\n    .dataframe thead th {\n        text-align: right;\n    }\n</style>\n<table border=\"1\" class=\"dataframe\">\n  <thead>\n    <tr style=\"text-align: right;\">\n      <th></th>\n      <th>index1</th>\n      <th>index2</th>\n      <th>similarity</th>\n    </tr>\n  </thead>\n  <tbody>\n    <tr>\n      <th>32533</th>\n      <td>3</td>\n      <td>7814</td>\n      <td>0.882006</td>\n    </tr>\n    <tr>\n      <th>91765</th>\n      <td>11</td>\n      <td>1170</td>\n      <td>0.601064</td>\n    </tr>\n    <tr>\n      <th>98414</th>\n      <td>11</td>\n      <td>7819</td>\n      <td>0.628788</td>\n    </tr>\n    <tr>\n      <th>167833</th>\n      <td>20</td>\n      <td>3204</td>\n      <td>0.654545</td>\n    </tr>\n    <tr>\n      <th>259917</th>\n      <td>31</td>\n      <td>4912</td>\n      <td>0.994382</td>\n    </tr>\n    <tr>\n      <th>...</th>\n      <td>...</td>\n      <td>...</td>\n      <td>...</td>\n    </tr>\n    <tr>\n      <th>33733361</th>\n      <td>7555</td>\n      <td>7842</td>\n      <td>0.988304</td>\n    </tr>\n    <tr>\n      <th>33794173</th>\n      <td>7650</td>\n      <td>7949</td>\n      <td>0.967033</td>\n    </tr>\n    <tr>\n      <th>33823312</th>\n      <td>7701</td>\n      <td>8222</td>\n      <td>0.972477</td>\n    </tr>\n    <tr>\n      <th>33873149</th>\n      <td>7803</td>\n      <td>8130</td>\n      <td>0.990704</td>\n    </tr>\n    <tr>\n      <th>33932047</th>\n      <td>7969</td>\n      <td>8015</td>\n      <td>0.965854</td>\n    </tr>\n  </tbody>\n</table>\n<p>746 rows × 3 columns</p>\n</div>"
     },
     "execution_count": 27,
     "metadata": {},
     "output_type": "execute_result"
    }
   ],
   "source": [
    "filtered_dupes = similarity_df[(similarity_df['similarity']>0.6)]\n",
    "filtered_dupes"
   ],
   "metadata": {
    "collapsed": false,
    "ExecuteTime": {
     "end_time": "2024-03-25T03:20:22.438947Z",
     "start_time": "2024-03-25T03:20:22.395947Z"
    }
   },
   "id": "6306579dd6c4b800",
   "execution_count": 27
  },
  {
   "cell_type": "code",
   "outputs": [
    {
     "name": "stdout",
     "output_type": "stream",
     "text": [
      "11 1118\n",
      "DOI: 10.7554/eLife.08828 1 of 27\n",
      "mitochondrial division (Friedman et al., 2011; Korobova et al., 2013; Murley et al., 2013; Korobova et al., 2014).\n",
      "As such, the analysis of aDNA has been greatly enabled by NGS (Green et al. 2010; Krause et al. 2010; Rasmussen et al. 2010; Meyer et al. 2012).\n",
      "11 2941\n",
      "DOI: 10.7554/eLife.08828 1 of 27\n",
      "mitochondrial division (Friedman et al., 2011; Korobova et al., 2013; Murley et al., 2013; Korobova et al., 2014).\n",
      "Such complex\n",
      "mixtures are commonly investigated in metabolomics studies (Saric et al., 2008; Le Gall et al., 2011; Marcobal et al., 2013; Weir et al., 2013; Walker et al., 2014).\n",
      "11 7750\n",
      "DOI: 10.7554/eLife.08828 1 of 27\n",
      "mitochondrial division (Friedman et al., 2011; Korobova et al., 2013; Murley et al., 2013; Korobova et al., 2014).\n",
      "DOI: 10.7554/eLife.08828 14 of 27\n",
      "mitochondria (Friedman et al., 2011; Murley et al., 2013), with the ER providing a platform for actin polymerization mediated by the ER-anchored formin INF2 (Korobova et al., 2013, 2014; Hatch et al., 2014).\n",
      "12 718\n",
      "The remnant of the total plasma membranes after extraction of caveolae is called bulk plasma membranes (40) (Fig.\n",
      "The preparation of plasma membrane and isolation of caveolae were achieved using the methods mentioned above (35, 40).\n",
      "23 1644\n",
      "4 lead to a decrease in SC absorption in mice (Deng et al., 2010; Deng et al., 2012).\n",
      "4 is important for optimization of pharmacokinetic behavior (Deng et al., 2010; Datta-Mannan et al., 2012; Deng et al., 2012).\n",
      "23 2451\n",
      "4 lead to a decrease in SC absorption in mice (Deng et al., 2010; Deng et al., 2012).\n",
      ", 2005) as in the operational DOAS retrievals (Boersma et al., 2007; 10 Bucsela et al., 2006).\n",
      "23 4420\n",
      "4 lead to a decrease in SC absorption in mice (Deng et al., 2010; Deng et al., 2012).\n",
      "3 and 4) and incubation is maintained over this period (Grimm et al., 2001; Lu et al., 2004b; c).\n",
      "23 5877\n",
      "4 lead to a decrease in SC absorption in mice (Deng et al., 2010; Deng et al., 2012).\n",
      "These experiments are described in detail elsewhere (Oum et al., 1998; Knipping et al., 2000; Hunt et al., 2004).\n",
      "23 7009\n",
      "4 lead to a decrease in SC absorption in mice (Deng et al., 2010; Deng et al., 2012).\n",
      "Strains lacking Trf4 are reported to show defects in chromosome arm cohesion (Wang et al, 2000; Edwards et al, 2003).\n",
      "24 1257\n",
      "found that SNPs of MMP-1 were linked to an increased risk of colorectal cancer [12,13].\n",
      "Another study found that both low BMI and obesity were associated with increased risk of hospitalization (Hanlon et al., 1998).\n",
      "24 2494\n",
      "found that SNPs of MMP-1 were linked to an increased risk of colorectal cancer [12,13].\n",
      "Furthermore, some SNPs of MMP-1 have been demonstrated to be significantly associated with increased risk for the development of lung cancer, breast cancer and colorectal cancer [6–8,11–13].\n",
      "33 474\n",
      "Spermatogonial transplantation was performed and recipients were prepared as described previously [7].\n",
      "Chloride uptake experiment was performed essentially as described by us previously [23, 24].\n",
      "33 953\n",
      "Spermatogonial transplantation was performed and recipients were prepared as described previously [7].\n",
      "3D organotypic culture was performed as described previously (Wescott et al. 2009).\n",
      "33 3282\n",
      "Spermatogonial transplantation was performed and recipients were prepared as described previously [7].\n",
      "Renal transplants in these pairs were performed as previously described.(17) All recipients received induction with 0.\n",
      "33 3854\n",
      "Spermatogonial transplantation was performed and recipients were prepared as described previously [7].\n",
      "Two days after transfection, cells were harvested and D2 activity was measured in lysates using HPLC, as described previously (20).\n",
      "33 4846\n",
      "Spermatogonial transplantation was performed and recipients were prepared as described previously [7].\n",
      "Serial liquid growth was performed as described previously (Meyer and Bailis, 2007).\n",
      "35 1118\n",
      "Increasing the number of EPIYA motifs leads to an increase in the level of CagA phosphorylation (Higashi et al., 2002a; Argent et al., 2004, 2008a; Zhang et al., 2005; Naito et al., 2006).\n",
      "As such, the analysis of aDNA has been greatly enabled by NGS (Green et al. 2010; Krause et al. 2010; Rasmussen et al. 2010; Meyer et al. 2012).\n",
      "35 5344\n",
      "Increasing the number of EPIYA motifs leads to an increase in the level of CagA phosphorylation (Higashi et al., 2002a; Argent et al., 2004, 2008a; Zhang et al., 2005; Naito et al., 2006).\n",
      ", 2000) or disease state (Ricceri et al., 2007; Scattoni et al., 2008; Young et al., 2010; Wohr et al., 2011a).\n",
      "41 3516\n",
      ", 2010), and retromer tubule formation is reported to be maximal at the time of Rab5-to-Rab7 conversion (Cullen and Korswagen, 2012; van Weering et al., 2012).\n",
      ", 2009), are most abundant on endosomes undergoing the early-to-late transition (Rojas et al., 2008; Cullen and Korswagen, 2012; van Weering et al., 2012).\n",
      "43 5373\n",
      "Existing applications of neural meanfield models to anesthesiainduced changes in spontaneous EEG rhythmsmostly focused on understanding the dynamical mechanisms underlying bi-phasic responses (Bojak and Liley, 2005; Hutt and Longtin, 2010; Steyn-Ross et al., 1999).\n",
      "…general anesthesia and (Liley and Bojak, 2005) model the proconvulsive properties of several volatile anesthetic agents, most modeling efforts aim at understanding the dynamical mechanisms underlying bi-phasic responses (Bojak and Liley, 2005; Hutt and Longtin, 2010; Steyn-Ross et al., 1999).\n"
     ]
    }
   ],
   "source": [
    "for row in filtered_dupes.head(20).itertuples():\n",
    "    print(row.index1, row.index2)\n",
    "    print(train_data.texts[row.index1])\n",
    "    print(train_data.texts[row.index2])"
   ],
   "metadata": {
    "collapsed": false
   },
   "id": "a9b5312889bb6106",
   "execution_count": 15
  },
  {
   "cell_type": "code",
   "outputs": [],
   "source": [
    "from src.preprocessing.simple_preprocessor import SimplePreprocessor\n",
    "\n",
    "docs_without_citation = SimplePreprocessor().preprocess(train_data)\n"
   ],
   "metadata": {
    "collapsed": false,
    "ExecuteTime": {
     "end_time": "2024-03-25T03:22:23.986582Z",
     "start_time": "2024-03-25T03:22:23.936581Z"
    }
   },
   "id": "c3a5f3af37644d73",
   "execution_count": 29
  },
  {
   "cell_type": "code",
   "outputs": [
    {
     "data": {
      "text/plain": "['However, how frataxin interacts with the Fe-S cluster biosynthesis components remains unclear as direct one-to-one interactions with each component were reported (IscS [12,22], IscU/Isu1 [6,11,16] or ISD11/Isd11 [14,15]).',\n 'In the study by Hickey et al. (2012), spikes were sampled from the field at the point of physiological\\nrobinson et al.: genomic regions influencing root traits in barley 11 of 13\\nmaturity, dried, grain threshed by hand, and stored at −20C to preserve grain dormancy before germination testing.']"
     },
     "execution_count": 48,
     "metadata": {},
     "output_type": "execute_result"
    }
   ],
   "source": [
    "train_data.texts[:2]"
   ],
   "metadata": {
    "collapsed": false,
    "ExecuteTime": {
     "end_time": "2024-03-25T03:37:59.402259Z",
     "start_time": "2024-03-25T03:37:59.382261Z"
    }
   },
   "id": "71172dc87f3b454",
   "execution_count": 48
  },
  {
   "cell_type": "code",
   "outputs": [
    {
     "data": {
      "text/plain": "['However, how frataxin interacts with the Fe-S cluster biosynthesis components remains unclear as direct one-to-one interactions with each component were reported (IscS , IscU/Isu1 [6,11,16] or ISD11/Isd11 [14,15]).',\n 'In the study by , spikes were sampled from the field at the point of physiological\\nrobinson et al.: genomic regions influencing root traits in barley 11 of 13\\nmaturity, dried, grain threshed by hand, and stored at −20C to preserve grain dormancy before germination testing.']"
     },
     "execution_count": 30,
     "metadata": {},
     "output_type": "execute_result"
    }
   ],
   "source": [
    "docs_without_citation.texts[:2]"
   ],
   "metadata": {
    "collapsed": false,
    "ExecuteTime": {
     "end_time": "2024-03-25T03:22:29.762580Z",
     "start_time": "2024-03-25T03:22:29.753581Z"
    }
   },
   "id": "c607356d1b617c1c",
   "execution_count": 30
  },
  {
   "cell_type": "code",
   "outputs": [],
   "source": [
    "cleaned_similarities = dict()\n",
    "cleaned_texts = docs_without_citation.texts\n",
    "for row in filtered_dupes.itertuples():\n",
    "    cleaned_similarity = similar(cleaned_texts[row.index1], cleaned_texts[row.index2])\n",
    "    cleaned_similarities[row.Index] = cleaned_similarity"
   ],
   "metadata": {
    "collapsed": false,
    "ExecuteTime": {
     "end_time": "2024-03-25T03:25:10.647919Z",
     "start_time": "2024-03-25T03:25:10.227920Z"
    }
   },
   "id": "cef4342b68fc455a",
   "execution_count": 32
  },
  {
   "cell_type": "code",
   "outputs": [
    {
     "data": {
      "text/plain": "          index1  index2  similarity  similarity_without_cite\n0              0       1    0.023346                      NaN\n1              0       2    0.029466                      NaN\n2              0       3    0.023372                      NaN\n3              0       4    0.034707                      NaN\n4              0       5    0.036364                      NaN\n...          ...     ...         ...                      ...\n33969398    8239    8241    0.024096                      NaN\n33969399    8239    8242    0.034161                      NaN\n33969400    8240    8241    0.024691                      NaN\n33969401    8240    8242    0.038627                      NaN\n33969402    8241    8242    0.014035                      NaN\n\n[33969403 rows x 4 columns]",
      "text/html": "<div>\n<style scoped>\n    .dataframe tbody tr th:only-of-type {\n        vertical-align: middle;\n    }\n\n    .dataframe tbody tr th {\n        vertical-align: top;\n    }\n\n    .dataframe thead th {\n        text-align: right;\n    }\n</style>\n<table border=\"1\" class=\"dataframe\">\n  <thead>\n    <tr style=\"text-align: right;\">\n      <th></th>\n      <th>index1</th>\n      <th>index2</th>\n      <th>similarity</th>\n      <th>similarity_without_cite</th>\n    </tr>\n  </thead>\n  <tbody>\n    <tr>\n      <th>0</th>\n      <td>0</td>\n      <td>1</td>\n      <td>0.023346</td>\n      <td>NaN</td>\n    </tr>\n    <tr>\n      <th>1</th>\n      <td>0</td>\n      <td>2</td>\n      <td>0.029466</td>\n      <td>NaN</td>\n    </tr>\n    <tr>\n      <th>2</th>\n      <td>0</td>\n      <td>3</td>\n      <td>0.023372</td>\n      <td>NaN</td>\n    </tr>\n    <tr>\n      <th>3</th>\n      <td>0</td>\n      <td>4</td>\n      <td>0.034707</td>\n      <td>NaN</td>\n    </tr>\n    <tr>\n      <th>4</th>\n      <td>0</td>\n      <td>5</td>\n      <td>0.036364</td>\n      <td>NaN</td>\n    </tr>\n    <tr>\n      <th>...</th>\n      <td>...</td>\n      <td>...</td>\n      <td>...</td>\n      <td>...</td>\n    </tr>\n    <tr>\n      <th>33969398</th>\n      <td>8239</td>\n      <td>8241</td>\n      <td>0.024096</td>\n      <td>NaN</td>\n    </tr>\n    <tr>\n      <th>33969399</th>\n      <td>8239</td>\n      <td>8242</td>\n      <td>0.034161</td>\n      <td>NaN</td>\n    </tr>\n    <tr>\n      <th>33969400</th>\n      <td>8240</td>\n      <td>8241</td>\n      <td>0.024691</td>\n      <td>NaN</td>\n    </tr>\n    <tr>\n      <th>33969401</th>\n      <td>8240</td>\n      <td>8242</td>\n      <td>0.038627</td>\n      <td>NaN</td>\n    </tr>\n    <tr>\n      <th>33969402</th>\n      <td>8241</td>\n      <td>8242</td>\n      <td>0.014035</td>\n      <td>NaN</td>\n    </tr>\n  </tbody>\n</table>\n<p>33969403 rows × 4 columns</p>\n</div>"
     },
     "execution_count": 34,
     "metadata": {},
     "output_type": "execute_result"
    }
   ],
   "source": [
    "similarity_df.loc[:, 'similarity_without_cite'] = similarity_df.index.map(cleaned_similarities)\n",
    "similarity_df"
   ],
   "metadata": {
    "collapsed": false,
    "ExecuteTime": {
     "end_time": "2024-03-25T03:25:57.611919Z",
     "start_time": "2024-03-25T03:25:56.825920Z"
    }
   },
   "id": "6840cf6005af6d33",
   "execution_count": 34
  },
  {
   "cell_type": "code",
   "outputs": [
    {
     "data": {
      "text/plain": "(746, 4)"
     },
     "execution_count": 43,
     "metadata": {},
     "output_type": "execute_result"
    }
   ],
   "source": [
    "cleaned_filtered_data = similarity_df[(similarity_df['similarity'] > 0.6) ]\n",
    "cleaned_filtered_data.shape"
   ],
   "metadata": {
    "collapsed": false,
    "ExecuteTime": {
     "end_time": "2024-03-25T03:32:28.857072Z",
     "start_time": "2024-03-25T03:32:28.815070Z"
    }
   },
   "id": "773589812c82563e",
   "execution_count": 43
  },
  {
   "cell_type": "code",
   "outputs": [
    {
     "data": {
      "text/plain": "(array([ 8.,  8.,  2.,  4.,  0.,  0.,  2.,  2.,  2.,  1.,  1.,  3.,  1.,\n         4.,  5.,  4.,  4.,  5.,  3.,  7.,  2., 11., 10.,  9.,  6., 16.,\n         7., 21., 14., 33., 26., 26., 25., 34., 21., 23., 13., 19., 21.,\n        21., 27., 20., 25., 21., 24., 19., 26., 21., 43., 96.]),\n array([0.00402414, 0.02394366, 0.04386318, 0.0637827 , 0.08370221,\n        0.10362173, 0.12354125, 0.14346076, 0.16338028, 0.1832998 ,\n        0.20321932, 0.22313883, 0.24305835, 0.26297787, 0.28289738,\n        0.3028169 , 0.32273642, 0.34265594, 0.36257545, 0.38249497,\n        0.40241449, 0.422334  , 0.44225352, 0.46217304, 0.48209256,\n        0.50201207, 0.52193159, 0.54185111, 0.56177062, 0.58169014,\n        0.60160966, 0.62152918, 0.64144869, 0.66136821, 0.68128773,\n        0.70120724, 0.72112676, 0.74104628, 0.76096579, 0.78088531,\n        0.80080483, 0.82072435, 0.84064386, 0.86056338, 0.8804829 ,\n        0.90040241, 0.92032193, 0.94024145, 0.96016097, 0.98008048,\n        1.        ]),\n <BarContainer object of 50 artists>)"
     },
     "execution_count": 36,
     "metadata": {},
     "output_type": "execute_result"
    },
    {
     "data": {
      "text/plain": "<Figure size 640x480 with 1 Axes>",
      "image/png": "[encoded data removed]"
     },
     "metadata": {},
     "output_type": "display_data"
    }
   ],
   "source": [
    "\n",
    "import matplotlib.pyplot as plt\n",
    "\n",
    "plt.hist(similarity_df['similarity_without_cite'], bins=50)"
   ],
   "metadata": {
    "collapsed": false,
    "ExecuteTime": {
     "end_time": "2024-03-25T03:27:00.061926Z",
     "start_time": "2024-03-25T03:26:59.703928Z"
    }
   },
   "id": "890c59bdfd082168",
   "execution_count": 36
  },
  {
   "cell_type": "code",
   "outputs": [],
   "source": [
    "cleaned_filtered_data.loc"
   ],
   "metadata": {
    "collapsed": false
   },
   "id": "8374a1208dfe43bf"
  },
  {
   "cell_type": "code",
   "outputs": [
    {
     "data": {
      "text/plain": "          index1  index2  similarity  similarity_without_cite\n1194226      146    1626    0.800582                 0.201893\n1270808      155    5389    0.906542                 0.020576\n2979274      369    6242    0.878444                 0.283088\n3037986      377    2006    0.907121                 0.062992\n3141789      390    3655    0.774536                 0.130631\n5365844      678    7950    0.630508                 0.041322\n7179791      922    6171    0.840116                 0.295276\n7846307     1014    3525    0.976909                 0.004115\n7940657     1027    4002    0.935961                 0.296296\n8550682     1112    4407    0.764706                 0.229885\n8884453     1159    4196    0.615385                 0.275472\n9149575     1196    7950    0.765244                 0.151261\n10643318    1412    3193    0.601202                 0.055046\n11815763    1586    2443    0.765690                 0.183007\n11863123    1593    3239    0.976667                 0.029703\n12526737    1693    7003    0.863768                 0.018832\n14883840    2064    3433    0.898773                 0.027888\n15381857    2145    4353    0.871252                 0.072893\n15753469    2206    5939    0.740280                 0.276265\n15938985    2237    4835    0.687090                 0.284848\n16445769    2322    4849    0.860504                 0.025135\n16957476    2409    5344    0.691589                 0.238532\n17245649    2459    3142    0.832392                 0.004024\n17711769    2540    4160    0.628279                 0.138554\n18119015    2612    3490    0.602374                 0.261209\n19881393    2934    5011    0.850144                 0.042623\n19896067    2937    3767    0.924316                 0.164384\n19931555    2943    7446    0.955128                 0.018116\n19986492    2954    4160    0.754107                 0.160000\n22285069    3408    5270    0.749361                 0.268078\n22821688    3520    6809    0.726115                 0.064935\n23187230    3598    7116    0.678261                 0.071882\n23197188    3600    7789    0.815934                 0.020478\n23599268    3688    5289    0.755043                 0.274336\n23725785    3716    4700    0.904110                 0.218750\n26359970    4341    5760    0.880383                 0.042683\n27632504    4682    6364    0.958333                 0.037037\n28413117    4908    8068    0.788043                 0.068841\n28863057    5046    7507    0.908527                 0.033670\n30687866    5680    7347    0.689127                 0.020725\n30793229    5722    6009    0.649819                 0.232673\n31186969    5883    7070    0.625592                 0.014493",
      "text/html": "<div>\n<style scoped>\n    .dataframe tbody tr th:only-of-type {\n        vertical-align: middle;\n    }\n\n    .dataframe tbody tr th {\n        vertical-align: top;\n    }\n\n    .dataframe thead th {\n        text-align: right;\n    }\n</style>\n<table border=\"1\" class=\"dataframe\">\n  <thead>\n    <tr style=\"text-align: right;\">\n      <th></th>\n      <th>index1</th>\n      <th>index2</th>\n      <th>similarity</th>\n      <th>similarity_without_cite</th>\n    </tr>\n  </thead>\n  <tbody>\n    <tr>\n      <th>1194226</th>\n      <td>146</td>\n      <td>1626</td>\n      <td>0.800582</td>\n      <td>0.201893</td>\n    </tr>\n    <tr>\n      <th>1270808</th>\n      <td>155</td>\n      <td>5389</td>\n      <td>0.906542</td>\n      <td>0.020576</td>\n    </tr>\n    <tr>\n      <th>2979274</th>\n      <td>369</td>\n      <td>6242</td>\n      <td>0.878444</td>\n      <td>0.283088</td>\n    </tr>\n    <tr>\n      <th>3037986</th>\n      <td>377</td>\n      <td>2006</td>\n      <td>0.907121</td>\n      <td>0.062992</td>\n    </tr>\n    <tr>\n      <th>3141789</th>\n      <td>390</td>\n      <td>3655</td>\n      <td>0.774536</td>\n      <td>0.130631</td>\n    </tr>\n    <tr>\n      <th>5365844</th>\n      <td>678</td>\n      <td>7950</td>\n      <td>0.630508</td>\n      <td>0.041322</td>\n    </tr>\n    <tr>\n      <th>7179791</th>\n      <td>922</td>\n      <td>6171</td>\n      <td>0.840116</td>\n      <td>0.295276</td>\n    </tr>\n    <tr>\n      <th>7846307</th>\n      <td>1014</td>\n      <td>3525</td>\n      <td>0.976909</td>\n      <td>0.004115</td>\n    </tr>\n    <tr>\n      <th>7940657</th>\n      <td>1027</td>\n      <td>4002</td>\n      <td>0.935961</td>\n      <td>0.296296</td>\n    </tr>\n    <tr>\n      <th>8550682</th>\n      <td>1112</td>\n      <td>4407</td>\n      <td>0.764706</td>\n      <td>0.229885</td>\n    </tr>\n    <tr>\n      <th>8884453</th>\n      <td>1159</td>\n      <td>4196</td>\n      <td>0.615385</td>\n      <td>0.275472</td>\n    </tr>\n    <tr>\n      <th>9149575</th>\n      <td>1196</td>\n      <td>7950</td>\n      <td>0.765244</td>\n      <td>0.151261</td>\n    </tr>\n    <tr>\n      <th>10643318</th>\n      <td>1412</td>\n      <td>3193</td>\n      <td>0.601202</td>\n      <td>0.055046</td>\n    </tr>\n    <tr>\n      <th>11815763</th>\n      <td>1586</td>\n      <td>2443</td>\n      <td>0.765690</td>\n      <td>0.183007</td>\n    </tr>\n    <tr>\n      <th>11863123</th>\n      <td>1593</td>\n      <td>3239</td>\n      <td>0.976667</td>\n      <td>0.029703</td>\n    </tr>\n    <tr>\n      <th>12526737</th>\n      <td>1693</td>\n      <td>7003</td>\n      <td>0.863768</td>\n      <td>0.018832</td>\n    </tr>\n    <tr>\n      <th>14883840</th>\n      <td>2064</td>\n      <td>3433</td>\n      <td>0.898773</td>\n      <td>0.027888</td>\n    </tr>\n    <tr>\n      <th>15381857</th>\n      <td>2145</td>\n      <td>4353</td>\n      <td>0.871252</td>\n      <td>0.072893</td>\n    </tr>\n    <tr>\n      <th>15753469</th>\n      <td>2206</td>\n      <td>5939</td>\n      <td>0.740280</td>\n      <td>0.276265</td>\n    </tr>\n    <tr>\n      <th>15938985</th>\n      <td>2237</td>\n      <td>4835</td>\n      <td>0.687090</td>\n      <td>0.284848</td>\n    </tr>\n    <tr>\n      <th>16445769</th>\n      <td>2322</td>\n      <td>4849</td>\n      <td>0.860504</td>\n      <td>0.025135</td>\n    </tr>\n    <tr>\n      <th>16957476</th>\n      <td>2409</td>\n      <td>5344</td>\n      <td>0.691589</td>\n      <td>0.238532</td>\n    </tr>\n    <tr>\n      <th>17245649</th>\n      <td>2459</td>\n      <td>3142</td>\n      <td>0.832392</td>\n      <td>0.004024</td>\n    </tr>\n    <tr>\n      <th>17711769</th>\n      <td>2540</td>\n      <td>4160</td>\n      <td>0.628279</td>\n      <td>0.138554</td>\n    </tr>\n    <tr>\n      <th>18119015</th>\n      <td>2612</td>\n      <td>3490</td>\n      <td>0.602374</td>\n      <td>0.261209</td>\n    </tr>\n    <tr>\n      <th>19881393</th>\n      <td>2934</td>\n      <td>5011</td>\n      <td>0.850144</td>\n      <td>0.042623</td>\n    </tr>\n    <tr>\n      <th>19896067</th>\n      <td>2937</td>\n      <td>3767</td>\n      <td>0.924316</td>\n      <td>0.164384</td>\n    </tr>\n    <tr>\n      <th>19931555</th>\n      <td>2943</td>\n      <td>7446</td>\n      <td>0.955128</td>\n      <td>0.018116</td>\n    </tr>\n    <tr>\n      <th>19986492</th>\n      <td>2954</td>\n      <td>4160</td>\n      <td>0.754107</td>\n      <td>0.160000</td>\n    </tr>\n    <tr>\n      <th>22285069</th>\n      <td>3408</td>\n      <td>5270</td>\n      <td>0.749361</td>\n      <td>0.268078</td>\n    </tr>\n    <tr>\n      <th>22821688</th>\n      <td>3520</td>\n      <td>6809</td>\n      <td>0.726115</td>\n      <td>0.064935</td>\n    </tr>\n    <tr>\n      <th>23187230</th>\n      <td>3598</td>\n      <td>7116</td>\n      <td>0.678261</td>\n      <td>0.071882</td>\n    </tr>\n    <tr>\n      <th>23197188</th>\n      <td>3600</td>\n      <td>7789</td>\n      <td>0.815934</td>\n      <td>0.020478</td>\n    </tr>\n    <tr>\n      <th>23599268</th>\n      <td>3688</td>\n      <td>5289</td>\n      <td>0.755043</td>\n      <td>0.274336</td>\n    </tr>\n    <tr>\n      <th>23725785</th>\n      <td>3716</td>\n      <td>4700</td>\n      <td>0.904110</td>\n      <td>0.218750</td>\n    </tr>\n    <tr>\n      <th>26359970</th>\n      <td>4341</td>\n      <td>5760</td>\n      <td>0.880383</td>\n      <td>0.042683</td>\n    </tr>\n    <tr>\n      <th>27632504</th>\n      <td>4682</td>\n      <td>6364</td>\n      <td>0.958333</td>\n      <td>0.037037</td>\n    </tr>\n    <tr>\n      <th>28413117</th>\n      <td>4908</td>\n      <td>8068</td>\n      <td>0.788043</td>\n      <td>0.068841</td>\n    </tr>\n    <tr>\n      <th>28863057</th>\n      <td>5046</td>\n      <td>7507</td>\n      <td>0.908527</td>\n      <td>0.033670</td>\n    </tr>\n    <tr>\n      <th>30687866</th>\n      <td>5680</td>\n      <td>7347</td>\n      <td>0.689127</td>\n      <td>0.020725</td>\n    </tr>\n    <tr>\n      <th>30793229</th>\n      <td>5722</td>\n      <td>6009</td>\n      <td>0.649819</td>\n      <td>0.232673</td>\n    </tr>\n    <tr>\n      <th>31186969</th>\n      <td>5883</td>\n      <td>7070</td>\n      <td>0.625592</td>\n      <td>0.014493</td>\n    </tr>\n  </tbody>\n</table>\n</div>"
     },
     "execution_count": 44,
     "metadata": {},
     "output_type": "execute_result"
    }
   ],
   "source": [
    "low_similarity_data = cleaned_filtered_data[cleaned_filtered_data['similarity_without_cite'] < 0.3]\n",
    "low_similarity_data"
   ],
   "metadata": {
    "collapsed": false,
    "ExecuteTime": {
     "end_time": "2024-03-25T03:32:42.241069Z",
     "start_time": "2024-03-25T03:32:42.228071Z"
    }
   },
   "id": "365c136c4f9265a8",
   "execution_count": 44
  },
  {
   "cell_type": "code",
   "outputs": [
    {
     "name": "stdout",
     "output_type": "stream",
     "text": [
      "146 1626 0.8005822416302766 0.20189274447949526\n",
      "The high numbers of all three species found in MT confirm the importance of this large, lowland forest block for primate conservation and further support the proposal to restore the Mngeta conservation corridor between US and Iyondo forest, a lowland to montane forest that is contiguous with MT  and is currently under gazettement as forest reserve (N.\n",
      "…primate conservation and further support the proposal to restore the Mngeta conservation corridor between US and Iyondo forest, a lowland to montane forest that is contiguous with MT (; St. John 2008) and is currently under gazettement as forest reserve (N. Burgess, pers. comm.).\n",
      "155 5389 0.9065420560747663 0.0205761316872428\n",
      "In mitochondria LDH and glycerol-3-phosphate dehydrogenase do not donate electrons to the respiratory chain, yet in bacteria they are membrane-bound enzymes transferring their electrons directly to ubiquinol .\n",
      "…do not donate electrons to the respiratory chain, yet in bacteria they are membrane-bound enzymes transferring their electrons directly to ubiquinol (Barnes and Kaback 1970; Lascelles 1978; Doig et al. 1999; Modun and Williams 1999; ; Delgado et al. 2001; Fuller et al. 2011).\n",
      "369 6242 0.8784440842787682 0.28308823529411764\n",
      "…that there is ample evidence from functional magnetic imaging experiments that in humans prediction errors are indeed encoded in the dorsal striatum (e.g. Valentin & O’Doherty, 2009;1), including regions of dorsal putamen most comparable to rat DLS (e.g. Garrison et al., 2013).\n",
      "Haruno & Kawato, 2006), it is important to note that there is ample evidence from functional magnetic imaging experiments that in humans prediction errors are indeed encoded in the dorsal striatum , including regions of dorsal putamen most comparable to rat DLS (e.\n",
      "377 2006 0.9071207430340558 0.06299212598425197\n",
      ", 2006; Hengst and Jaffrey, 2007), the question of whether local protein translation is required for growth cone responses to guidance cues remains unresolved as a result of conflicting findings from different neuronal populations .\n",
      "…local protein translation is required for growth cone responses to guidance cues remains unresolved as a result of conflicting findings from different neuronal populations (Piper et al., 2006; Yao et al., 2006; Lin and Holt, 2007; Bouchard et al., 2008; Lang et al., 2008; ).\n",
      "390 3655 0.7745358090185677 0.13063063063063063\n",
      "…(Balana et al., 2011; Bottcher et al., 2012; Cai et al., 2011; Ghai et al., 2013; Ghai et al., 2011; Hayashi et al., 2012; Joubert et al., 2004; Knauth et al., 2005; Lauffer et al., 2010; Lunn et al., 2007; Steinberg et al., 2013; Temkin et al., 2011; ; Wang et al., 2013).\n",
      "PX-FERM proteins can then interact with NPxY/NxxY motif containing cargo, and also PDZ binding motif (PDZbm) cargo in the case of SNX27, at the early endosomal membrane .\n",
      "678 7950 0.6305084745762712 0.04132231404958678\n",
      ", 2010), and consequently breast biomechanics research has made recommendations to wear a high level of breast support (sports bra) when exercising to reduce breast pain .\n",
      "An increase in superioinferior breast displacement has also been positively correlated with increases in exercise-induced breast pain , and consequently breast biomechanics research has made recommendations to wear a high level of breast support (sports bra) when exercising to reduce breast pain (Bridgman et al.\n",
      "922 6171 0.8401162790697675 0.2952755905511811\n",
      "…it induces the acrosome reaction of the spermatozoon; and, finally, immediately after fertilization, it prevents polyspermy (Baker et al. 2000; Bleil and Wassarman 1990; Herrler and Beier 1999; Serrano and Garcia-Suarez 2001;Thaler and Cardullo 2002;4; Zhao and Dean 2002).\n",
      "It performs three fundamental functions: it binds a spermatozoon—thus preventing interspecies fertilization; it induces the acrosome reaction of the spermatozoon; and, finally, immediately after fertilization, it prevents polyspermy .\n",
      "1014 3525 0.9769094138543516 0.00411522633744856\n",
      "Candida spp. has been reported as one of the most common pathogens that cause hospital-acquired bloodstream infections in patients undergoing surgical or chemotherapeutic interventions and/or with underlying immunological deficiencies (; Pfaller & Diekema, 2007).\n",
      "has been reported as one of the most common pathogens that cause hospital-acquired bloodstream infections in patients undergoing surgical or chemotherapeutic interventions and/or with underlying immunological deficiencies .\n",
      "1027 4002 0.9359605911330048 0.2962962962962963\n",
      "mutant embryos .\n",
      "P\n",
      "ra sa\n",
      "th )\n",
      "mutant embryos (Deng et al., 1994; Yamaguchi et al., 1994; Sun et al., 1999; ).\n",
      "1112 4407 0.7647058823529411 0.22988505747126436\n",
      "…‘LA1698’ and susceptible genotype ‘LA2683’\n",
      "synthase (PaKCS6) (Khadivi-Khub 2015; Balbontı́n et al. 2014, 2013; Kasai et al. 2008; Huang et al. . 2006; Wang et al. 2006; Moctezuma et al. 2003; Schuch et al. 1991; Peet 1992; Cuartero et al. 1981) have also been identified to be…\n",
      "synthase (PaKCS6)  have also been identified to be closely associated with fruit cracking, which also shows the importance of the fruit pericarp in cracking.\n",
      "1159 4196 0.6153846153846154 0.27547169811320754\n",
      "…2005), poly (ethylene glycol) (PEG) (Law et al., 2004; Verheyen et al., 2002) and hydroxypropyl methylcellulose (HPMC) (Kushida and Gotoda, 2013; ) or enteric polymers such as hydroxypropyl methylcellulose phthalate (HPMCP) (Miyazaki et al., 2011) and hydroxypropyl…\n",
      "…(HPMC) (Kushida and Gotoda, 2013; Miyazaki et al., 2011) or enteric polymers such as hydroxypropyl methylcellulose phthalate (HPMCP) () and hydroxypropyl methylcellulose acetate succinate (HPMCAS) (Friesen et al., 2008; Tanno et al., 2004) have demonstrated use…\n",
      "1196 7950 0.7652439024390244 0.15126050420168066\n",
      "…exercise-induced breast pain (Bridgman et al., 2010; Scurr et al., 2010), and consequently breast biomechanics research has made recommendations to wear a high level of breast support (sports bra) when exercising to reduce breast pain (Bridgman et al., 2010; ; White et al., 2009).\n",
      "An increase in superioinferior breast displacement has also been positively correlated with increases in exercise-induced breast pain , and consequently breast biomechanics research has made recommendations to wear a high level of breast support (sports bra) when exercising to reduce breast pain (Bridgman et al.\n",
      "1412 3193 0.6012024048096193 0.05504587155963303\n",
      "26 Finally, provide support for their assumption of static demand using data on purchases and a consumer survey in the residential solar market in Connecticut, in the United States.\n",
      "…from government and industry publications suggest that ongoing price reductions were not fully anticipated, even by industry insiders.26 Finally,  provide support for their assumption of static demand using data on purchases and a consumer survey in the…\n",
      "1586 2443 0.7656903765690377 0.1830065359477124\n",
      "1991) and empirical studies .\n",
      "…carnivores has been a focus for theoretical models (e.g. Macdonald 1983; Carr and Macdonald 1986; Bacon et al. 1991) and empirical studies (e.g. Kruuk 1978; Kruuk and Parish 1982; Mills 1989; Mills and Gorman 1997; ; Patterson and Messier 2001; Valenzuela and Macdonald 2002).\n",
      "1593 3239 0.9766666666666668 0.0297029702970297\n",
      "This finding extends previous work that has shown that certain aspects of gait may depend on cognitive function and attention .\n",
      "…extends previous work that has shown that certain aspects of gait may depend on cognitive function and attention (Springer et al. 2006; Woollacott and Shumway-Cook 2002; ; Bloem et al. 2001; Morris et al. 1996; Auriel et al. 2006; Van Wegen et al. 2006; Verghese et al. 2002).\n",
      "1693 7003 0.863768115942029 0.018832391713747645\n",
      "Interpersonal problems are a crucial feature of borderline personality disorder and underlie other straining characteristics of the disease, such as self-harming behavior, affective dysregulation, and impaired social functioning in the longterm course .\n",
      "…other straining characteristics of the disease, such as self-harming behavior, affective dysregulation, and impaired social functioning in the longterm course (BPD; Stiglmayr et al., 2005; Gunderson, 2007; ; Skodol, 2008; Gunderson, 2011; Livesley, 2012; Dammann et al., 2016).\n",
      "2064 3433 0.8987730061349694 0.027888446215139442\n",
      "Various other reports that found Nestin expression in progenitor cells of diverse tissue types may suggest that this marker is indicative of a general precursor cell rather than one specifically committed to a neural lineage .\n",
      "…cells of diverse tissue types may suggest that this marker is indicative of a general precursor cell rather than one specifically committed to a neural lineage (; Ha et al., 2003; Mokry and Nemecek, 1998; Niki et al., 1999; Sejersen and Lendahl, 1993; Zulewski et al., 2001).\n",
      "2145 4353 0.8712522045855379 0.07289293849658314\n",
      "For example, because coral mucus provides an important carbon source for coral-associated bacteria , changes in production rates of mucus due to abiotic factors (e.\n",
      "…mucus provides an important carbon source for coral-associated bacteria (Ferrier-Pages et al. 2000; Brown and Bythell 2005; Wegley et al. 2007; ; Kimes et al. 2010), changes in production rates of mucus due to abiotic factors (e.g. temperature and/or irradiance) (Piggot et…\n",
      "2206 5939 0.7402799377916018 0.27626459143968873\n",
      "…and could potentially modulate the metabolism of SN-38 in vivo (Zheng et al., 2001; Guillemette, 2003; Villeneuve et al., 2003; Girard et al., 2004; ), as well as response to irinotecan-based chemotherapy (Ando et al., 2000; Innocenti et al., 2004; Marcuello et al., 2004;…\n",
      "A number of polymorphisms in UGT1A1 and UGT1A9 affecting expression and protein function have been identified and could potentially modulate the metabolism of SN-38 in vivo , as well as response to irinotecan-based chemotherapy (Ando et al.\n",
      "2237 4835 0.687089715536105 0.28484848484848485\n",
      "…such as RasGefQ prefer GDP-Ras (Mondal et al., 2008), it is plausible that B56 may facilitate recruiting GDP-Ras to specific RasGef proteins.\n",
      "the hydrophobic motif (HM) site, respectively (Meili et al., 1999; Kamimura et al., 2008; Kamimura and Devreotes, 2010; Cai et al., 2010; ).\n",
      "the hydrophobic motif (HM) site, respectively .\n",
      "2322 4849 0.8605042016806723 0.025134649910233394\n",
      "As discussed recently by , several differences between CPP protocols such as the number of compartments in the CPP apparatus as well as the usage of biased (as in Cunningham et al. 1992; Semenova et al. 1995) vs unbiased procedure (as in Orsini et al. 2005) might account for…\n",
      "…(2005), several differences between CPP protocols such as the number of compartments in the CPP apparatus as well as the usage of biased (as in Cunningham et al. 1992; Semenova et al. 1995) vs unbiased procedure (as in ) might account for some of the discrepancies in the results.\n",
      "2409 5344 0.6915887850467289 0.23853211009174313\n",
      "The isolation vocalizations of infant mice are used as behavioral markers of stress (Rupniak et al., 2000) or disease state (Ricceri et al., 2007; Scattoni et al., 2008; Young et al., 2010; ).\n",
      ", 2000) or disease state .\n",
      "2459 3142 0.832391713747646 0.004024144869215292\n",
      "…M. Beale The Macaulay Institute, Craigiebuckler, Aberdeen AB15 8QH, UK\n",
      "one stage of the life cycle may impact upon subsequent life history parameters97), whilst the inXuence of climate on multiple demographic parameters in the same species has rarely been studied in any taxon…\n",
      "one stage of the life cycle may impact upon subsequent life history parameters , whilst the inXuence of climate on multiple demographic parameters in the same species has rarely been studied in any taxon (Sillett et al.\n",
      "2540 4160 0.6282785649683449 0.13855421686746988\n",
      "br A recent work (even found different morula and blastocyst rates among clonal colonies obtained from the same donor cell fetus.\n",
      "br A recent work (who observed a lower pregnancy rate (> day 30 of gestation) and a lower proportion of viable calves at weaning for NT using transfected cells than for their non-transfected counterpart.\n",
      "2612 3490 0.6023738872403561 0.26120857699805067\n",
      "2005) without reservation and none of the features invoked by  This defining list of traits overlaps considerably the battery of features long used to support the adapid-anthropoid hypothesis and now regarded as likely convergences (e.\n",
      "…(e.g., Beard 2002; Chaimanee et al. 2000; Kay et al. 2004; Marivaux et al. 2005; Takai et al. 2005) without reservation and none of the features invoked by  have been reassessed or challenged in detail, with the exception of the character analysis by Gunnell and Miller (2001).\n",
      "2934 5011 0.8501440922190202 0.04262295081967213\n",
      "Whereas enlarged body size has been traditionally put forward as a major biological factor facilitating herbivory and frugivory in lizards , a recent review of frugivory and seed dispersal by lizards suggested that frugivory should be considered an island phenomenon, independent of the effects of body size (Olesen and Valido 2003).\n",
      "…traditionally put forward as a major biological factor facilitating herbivory and frugivory in lizards (see Schoener et al. 1982; Van Damme 1999; ), a recent review of frugivory and seed dispersal by lizards suggested that frugivory should be considered an island phenomenon,…\n",
      "2937 3767 0.924315619967794 0.1643835616438356\n",
      "The importance of C/EBP proteins initially has been demonstrated in tissue culture model systems of adipogenesis and hematopoiesis  and has now been firmly established through analysis of the respective knockout mice (Screpanti et al.\n",
      "…proteins initially has been demonstrated in tissue culture model systems of adipogenesis and hematopoiesis (Lin and Lane 1992; Freytag et al. 1994; ; Müller et al. 1995; Nerlov et al. 1998) and has now been firmly established through analysis of the respective knockout mice…\n",
      "2943 7446 0.9551282051282052 0.018115942028985508\n",
      "Interest in the use of CWs for remediation of runoff from agricultural irrigation and agro-industrial production has become increasingly popular over the last decades, due to their low capital and operational cost, low energy consumption, and environmental friendliness .\n",
      "…for remediation of runoff from agricultural irrigation and agro-industrial production has become increasingly popular over the last decades, due to their low capital and operational cost, low energy consumption, and environmental friendliness (; Scholz, 2007; Carty et al., 2008).\n",
      "2954 4160 0.7541073384446878 0.16\n",
      "br A recent work ( In contrast, Forsberg et al.\n",
      "br A recent work (who observed a lower pregnancy rate (> day 30 of gestation) and a lower proportion of viable calves at weaning for NT using transfected cells than for their non-transfected counterpart.\n",
      "3408 5270 0.7493606138107417 0.26807760141093473\n",
      "…of epidemiological studies showing an association between air pollution exposure and cognitive impairment in the elderly (Chen and Schwartz 2009; ; Ranft et al. 2009; Wellenius et al. 2012; Weuve et al. 2012a; Chang et al. 2014; Tonne et al. 2014, Ailshire and Crimmings 2014,…\n",
      "Our findings are supported by a growing number of epidemiological studies showing an association between air pollution exposure and cognitive impairment in the elderly  and by toxicological studies suggesting that air pollution has neuropathological effects (Block and Calderón-Garcidueñas\n",
      "3520 6809 0.7261146496815286 0.06493506493506493\n",
      ", 2009) or picture booklets .\n",
      "…protagonists (referents), different visual supports (without text) can be employed including cartoon videos (e.g., Arnold et al., 2009) or picture booklets (e.g., Hickmann et al., 1995; Van der Lely, 1997; Colle et al., 2008; ; Kuijper et al., 2015; Contemori andDussias, 2016).\n",
      "3598 7116 0.6782608695652174 0.07188160676532769\n",
      "14 unique from political ideologies such as social dominance orientation, right-wing authoritarianism, and conservatism, previously shown to be associated with dehumanization  and aggressive intergroup attitudes (e.\n",
      "…and conservatism, previously shown to be associated with dehumanization (e.g., Costello & Hodson, 2010, 2014; Hodson & Costello, 2007; ) and aggressive intergroup attitudes (e.g., Hetherington & Suhay, 2011; Kteily, Ho, & Sidanius, 2012; Kteily, Cotterill,…\n",
      "3600 7789 0.8159340659340659 0.020477815699658702\n",
      "Recently, peptide fragmentation with tandem mass spectrometry parallel to the standardized MALDI-TOF-MS has emerged as an additional tool which provides enhanced capabilities for peptide sequencing directly from samples such as nervous tissues or even single cells of invertebrates, including those of insects .\n",
      "…tool which provides enhanced capabilities for peptide sequencing directly from samples such as nervous tissues or even single cells of invertebrates, including those of insects (e.g., Yew et al., 2003; ; Neupert and Predel, 2005; Nachman et al., 2006; Wegener et al., 2006).\n",
      "3688 5289 0.7550432276657061 0.2743362831858407\n",
      "D and 3-CB has been confirmed (; Laemmli et al., 2000, 2004; Pérez-Pantoja et al., 2000; Plumeier et al., 2002).\n",
      "The functionality of both genes and their expression during mineralization of 2,4-D and 3-CB has been confirmed .\n",
      "3716 4700 0.9041095890410958 0.21875\n",
      "…or undermine the autoimmunity hypothesis (Kierszenbaum 1986, 1999, 2003, 2005; Eisen and Kahn 1991; Avila 1992; Fernandez et al. 1992; Kalil and CunhaNeto 1996; Brener and Gazzinelli 1997; Andrade 1999; ; Leon and Engman 2001, 2002; Gironés and Fresno 2003; Gironés et al. 2005).\n",
      "Many recent articles have discussed the findings that support or undermine the autoimmunity hypothesis .\n",
      "4341 5760 0.8803827751196173 0.042682926829268296\n",
      "6 %, which is in the middle range of findings of previous studies (3%-58%) .\n",
      "(; Ciaramella and Poli, 2001; Uchitomi et al., 2003; Katz et al., 2004; Ell et al., 2005; Boyd et al., 2012; Kim et al., 2012; Mitchell et al., 2012; Palmer et al., 2012; Pirl et al., 2012; Tada et al., 2012; Warmenhoven et al., 2012; Yu et al., 2012).\n",
      "4682 6364 0.9583333333333334 0.037037037037037035\n",
      "…said, however, that M. senhousia, as well as other alien species, might initially increase local species number; however, through strong direct or indirect effects, it might lead to reduced species richness of native species, and a decrease in the abundance of remaining species ().\n",
      "senhousia, as well as other alien species, might initially increase local species number; however, through strong direct or indirect effects, it might lead to reduced species richness of native species, and a decrease in the abundance of remaining species .\n",
      "4908 8068 0.7880434782608695 0.06884057971014493\n",
      "…cargo trafficking (Cai et al., 2011; Gallon et al., 2014; Lauffer et al., 2010; Lunn et al., 2007; Steinberg et al., 2013; Temkin et al., 2011; ; Wang et al., 2013), and our results now suggest an additional unique property of this protein with respect to lipid headgroup…\n",
      "SNX27 however, possesses a unique PDZ domain involved in alternative cargo trafficking , and our results now suggest an additional unique property of this protein with respect to lipid headgroup association, interacting with PtdInsP species not bound by the other family members.\n",
      "5046 7507 0.9085271317829458 0.03367003367003367\n",
      "In other words, the selectively bred animals would mainly differ in trait anxiety, which is an enduring feature of an individual and, consequently, does not vary from moment to moment, in contrast to state anxiety, which is provoked by an anxiogenic stimulus and only experienced at a particular moment in time .\n",
      "…differ in trait anxiety, which is an enduring feature of an individual and, consequently, does not vary from moment to moment, in contrast to state anxiety, which is provoked by an anxiogenic stimulus and only experienced at a particular moment in time (Belzung & Griebel, 2001; ).\n",
      "5680 7347 0.6891271056661562 0.02072538860103627\n",
      "Cleft surgeons commonly present 10 consecutive lip repairs, although the basis for this sample size remains unproven .\n",
      "…performed lip repairs are commonly presented in an attempt to increase objectivity (McComb, 1985; Boo-Chai, 1987; Lohmander-Agerskov et al., 1990; ; Haramoto et al., 2000;\n",
      "Braumann et al., 2001; Al-Qattan, 2002; Braumann et al., 2002; Lee et al., 2004; McComb, 2009;…\n",
      "5722 6009 0.6498194945848376 0.23267326732673269\n",
      ", 1994; Meijer, 1996) and by RNAi , using dsRNA probes derived from cyclin A and from cyclin B cDNAs that we isolated from a M.\n",
      "…replication (Anand et al., 1995), with olomoucine, an inhibitor of cyclin-dependent kinase activity (Glab et al., 1994; Meijer, 1996) and by RNAi (; Tabara et al., 1998; Tabara et al., 1999; Grishok et al., 2000; Klink and Wolniak, 2000; Klink and Wolniak, 2001), using dsRNA…\n",
      "5883 7070 0.6255924170616114 0.014492753623188406\n",
      ") .\n",
      "…environment, and is largely dependent upon which aspect of the neighborhood is observed (i.e. perceived safety, neighborhood-level SES, social cohesion, etc.) (Burdette and Whitaker, 2005; Carver et al., 2008; ; Gomez et al., 2004; Molnar et al., 2004; Mota et al., 2005).\n"
     ]
    }
   ],
   "source": [
    "cleaned_texts = docs_without_citation.texts\n",
    "for row in low_similarity_data.itertuples():\n",
    "    print(row.index1, row.index2, row.similarity, row.similarity_without_cite)\n",
    "    print(cleaned_texts[row.index1])\n",
    "    print(cleaned_texts[row.index2])"
   ],
   "metadata": {
    "collapsed": false,
    "ExecuteTime": {
     "end_time": "2024-03-25T03:35:09.618163Z",
     "start_time": "2024-03-25T03:35:09.597162Z"
    }
   },
   "id": "86e71b7641380f6e",
   "execution_count": 47
  }
 ],
 "metadata": {
  "kernelspec": {
   "name": "cs4248_project",
   "language": "python",
   "display_name": "Python3.10 (cs4248 project)"
  },
  "language_info": {
   "codemirror_mode": {
    "name": "ipython",
    "version": 2
   },
   "file_extension": ".py",
   "mimetype": "text/x-python",
   "name": "python",
   "nbconvert_exporter": "python",
   "pygments_lexer": "ipython2",
   "version": "2.7.6"
  }
 },
 "nbformat": 4,
 "nbformat_minor": 5
}
