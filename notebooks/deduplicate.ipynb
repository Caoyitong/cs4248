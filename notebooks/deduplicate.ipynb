{
 "cells": [
  {
   "cell_type": "code",
   "outputs": [],
   "source": [
    "import numpy as np\n",
    "import pandas as pd\n",
    "import plotly.express as px\n",
    "from numpy.random import RandomState\n",
    "\n",
    "from src.extraction.jsonl_data_reader import JsonlDataReader"
   ],
   "metadata": {
    "collapsed": false,
    "ExecuteTime": {
     "end_time": "2024-03-24T15:40:42.925346Z",
     "start_time": "2024-03-24T15:40:41.777347Z"
    }
   },
   "id": "241064ad2dc2c113",
   "execution_count": 1
  },
  {
   "cell_type": "code",
   "outputs": [],
   "source": [
    "seed = 7\n",
    "random_state = RandomState(seed=seed)\n",
    "np.random.seed(seed)"
   ],
   "metadata": {
    "collapsed": false,
    "ExecuteTime": {
     "end_time": "2024-03-24T15:40:42.941349Z",
     "start_time": "2024-03-24T15:40:42.926348Z"
    }
   },
   "id": "ebeafe2eaa284a61",
   "execution_count": 2
  },
  {
   "cell_type": "code",
   "outputs": [],
   "source": [
    "train_data = JsonlDataReader(file_name='train.jsonl').read()\n",
    "test_data = JsonlDataReader(file_name='test.jsonl').read()"
   ],
   "metadata": {
    "collapsed": false,
    "ExecuteTime": {
     "end_time": "2024-03-24T15:40:43.954347Z",
     "start_time": "2024-03-24T15:40:42.942346Z"
    }
   },
   "id": "7101d588a95c4943",
   "execution_count": 3
  },
  {
   "cell_type": "code",
   "outputs": [],
   "source": [
    "from difflib import SequenceMatcher\n",
    "def similar(a, b):\n",
    "    return SequenceMatcher(None, a, b).ratio()\n"
   ],
   "metadata": {
    "collapsed": false,
    "ExecuteTime": {
     "end_time": "2024-03-24T15:40:43.970347Z",
     "start_time": "2024-03-24T15:40:43.956347Z"
    }
   },
   "id": "e60c037f940c3299",
   "execution_count": 4
  },
  {
   "cell_type": "code",
   "outputs": [],
   "source": [
    "mini_instance = train_data.raw_instances[:10]"
   ],
   "metadata": {
    "collapsed": false,
    "ExecuteTime": {
     "end_time": "2024-03-24T15:50:17.911385Z",
     "start_time": "2024-03-24T15:50:17.904383Z"
    }
   },
   "id": "290690e68682101d",
   "execution_count": 8
  },
  {
   "cell_type": "code",
   "outputs": [
    {
     "name": "stderr",
     "output_type": "stream",
     "text": [
      "707it [1:07:02,  5.17s/it]"
     ]
    }
   ],
   "source": [
    "from tqdm import tqdm\n",
    "\n",
    "text_similarities = []\n",
    "for idx, row in tqdm(enumerate(train_data.raw_instances[:-1])):\n",
    "    similiarity_record = dict()\n",
    "    for next_idx, next_row in enumerate(train_data.raw_instances[idx+1:]):\n",
    "        similarity = similar(row.string, next_row.string)\n",
    "        similiarity_record[idx + 1 + next_idx] = similarity\n",
    "    else:\n",
    "        text_similarities.append(similiarity_record)\n",
    "similiarity_df = pd.DataFrame.from_records(text_similarities)\n",
    "similiarity_df"
   ],
   "metadata": {
    "collapsed": false,
    "is_executing": true,
    "ExecuteTime": {
     "start_time": "2024-03-24T15:54:03.467212Z"
    }
   },
   "id": "8242660c97ff91f9",
   "execution_count": null
  },
  {
   "cell_type": "code",
   "outputs": [],
   "source": [
    "from src.utils.path_getter import PathGetter\n",
    "\n",
    "similiarity_df.to_csv(PathGetter.get_data_directory()/'similiarity.csv', index=True)"
   ],
   "metadata": {
    "collapsed": false,
    "is_executing": true
   },
   "id": "1b5e7370890d501b",
   "execution_count": null
  },
  {
   "cell_type": "code",
   "outputs": [],
   "source": [],
   "metadata": {
    "collapsed": false
   },
   "id": "ffaa261570c5bd09"
  },
  {
   "cell_type": "code",
   "outputs": [],
   "source": [],
   "metadata": {
    "collapsed": false
   },
   "id": "6306579dd6c4b800"
  }
 ],
 "metadata": {
  "kernelspec": {
   "display_name": "Python 3",
   "language": "python",
   "name": "python3"
  },
  "language_info": {
   "codemirror_mode": {
    "name": "ipython",
    "version": 2
   },
   "file_extension": ".py",
   "mimetype": "text/x-python",
   "name": "python",
   "nbconvert_exporter": "python",
   "pygments_lexer": "ipython2",
   "version": "2.7.6"
  }
 },
 "nbformat": 4,
 "nbformat_minor": 5
}
